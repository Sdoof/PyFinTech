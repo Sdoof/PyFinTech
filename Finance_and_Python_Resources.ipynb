{
 "cells": [
  {
   "cell_type": "markdown",
   "metadata": {},
   "source": [
    "# Finance and Python Resources "
   ]
  },
  {
   "cell_type": "markdown",
   "metadata": {},
   "source": [
    "In this notebook, you will find links to resources I began bookmarking in 2016. The resources are: data sets, courses, influential financial data scientists, fund managers, traders, podcast episodes, bank/fund main sites, US exchanges, books, and academic papers. \n",
    "\n",
    "Descriptions were copied directly from websites.\n",
    "\n",
    "Links must be right-clicked and opened in new tab."
   ]
  },
  {
   "cell_type": "markdown",
   "metadata": {},
   "source": [
    "## Industry Prep  |  Open Courses  |  Academic Curriculum "
   ]
  },
  {
   "cell_type": "markdown",
   "metadata": {},
   "source": [
    "### Chartered Financial Analyst (CFA) Institute\n",
    "\n",
    "https://www.cfainstitute.org/programs/cfa\n",
    "\n",
    "Achieve the highest distinction in the investment management profession – the CFA® designation.\n",
    "\n",
    "The Chartered Financial Analyst® (CFA) credential is held by over 150,000 professionals around the world. The charter gives a strong understanding of advanced investment analysis and real-world portfolio management skills.\n",
    "\n",
    "The CFA Program is a self-study, graduate-level program divided into three levels of exams. Passing these exams is one step to becoming a CFA charterholder.\n",
    "    \n"
   ]
  },
  {
   "cell_type": "markdown",
   "metadata": {},
   "source": [
    "### Chartered Market Technician\n",
    "\n",
    "https://cmtassociation.org/chartered-market-technician/\n",
    "\n",
    "Completing the CMT Program demonstrates mastery of a core body of knowledge of investment risk in portfolio management. Our market philosophy is grounded in behavioral economics and extends beyond classical pattern recognition techniques to include quantitative approaches to market research and rules based trading system design and testing."
   ]
  },
  {
   "cell_type": "markdown",
   "metadata": {},
   "source": [
    "### Corporate Finance Institute\n",
    "\n",
    "https://corporatefinanceinstitute.com/\n",
    "\n",
    "CFI's financial modeling certification program provides an opportunity for hands-on learning through interactive video lectures, exercises, and case studies. The quizzes, exercises and qualified assessments will help you track and measure your progress throughout your learning journey.\n",
    "\n",
    "Learn by doing from world-renowned instructors with over 20 years of experience in delivering courses and training in corporate finance, investment banking, equity research, corporate development, FP&A, treasury, and accounting."
   ]
  },
  {
   "cell_type": "markdown",
   "metadata": {},
   "source": [
    "### Bloomberg Market Concepts\n",
    "\n",
    "https://www.bloomberg.com/professional/product/bloomberg-market-concepts/\n",
    "\n",
    "Bloomberg Market Concepts (BMC) is a 10-hour, self-paced e-learning course that provides an interactive introduction to the financial markets. BMC consists of 5 modules—Economic Indicators, Currencies, Fixed Income, Equities, and Getting Started on the Terminal—woven together from Bloomberg data, news, analytics and television. Using the BMC digital courseware as a course companion frees up class time for more advanced topics."
   ]
  },
  {
   "cell_type": "markdown",
   "metadata": {},
   "source": [
    "### FINRA Qualification Exams\n",
    "\n",
    "http://www.finra.org/industry/qualification-exams\n",
    "\n",
    "To become registered, securities professionals must pass qualifying exams administered by FINRA to demonstrate their competence in the particular securities activities in which they will work. You must pass the exams prior to engaging in those areas of the business.\n",
    "\n",
    "These exams cover a broad range of subjects on the markets, and the securities industry and its regulatory structure. This includes knowledge of FINRA rules and also the rules of other self-regulatory organizations (SROs). The purpose of the exams is to ensure that you acquire a minimum level of understanding and expertise."
   ]
  },
  {
   "cell_type": "markdown",
   "metadata": {},
   "source": [
    "### Certificate in Quantitative Finance\n",
    "\n",
    "https://www.cqf.com/\n",
    "\n",
    "The CQF is designed for delegates in full-time work and does not require any time away from the workplace. By dividing the program content over six months or into two levels, delegates build up their knowledge session by session around their busy work schedule. There are around two core CQF lectures a week which run from 6.00pm – 8.30pm (GMT). All training is delivered live via webcast, is also recorded and made available on the CQF Portal within 24 hours."
   ]
  },
  {
   "cell_type": "markdown",
   "metadata": {},
   "source": [
    "### DataCamp\n",
    "\n",
    "https://www.datacamp.com/\n",
    "\n",
    "The skills people and businesses need to succeed are changing. No matter where you are in your career or what field you work in, you will need to understand the language of data. With DataCamp, you learn data science today and apply it tomorrow."
   ]
  },
  {
   "cell_type": "markdown",
   "metadata": {},
   "source": [
    "### The Python Quants\n",
    "\n",
    "https://tpq.io/\n",
    "\n",
    "The Experts in Data-Driven and AI-First Finance with Python. We focus on Python and Open Source Technologies for Financial Data Science, Artificial Intelligence, Algorithmic Trading and Computational Finance."
   ]
  },
  {
   "cell_type": "markdown",
   "metadata": {},
   "source": [
    "### World Quant University\n",
    "\n",
    "https://wqu.org/\n",
    "\n",
    "Financial engineering applies mathematical and quantitative methods to financial problems. This multidisciplinary field combines financial theory, mathematics applications, engineering methods, and programming practices.\n",
    "\n",
    "Our two-year, online program offers 9 instructor-guided courses with a unique emphasis on applied projects and collaborative, peer-to-peer learning.\n",
    "\n",
    "From Python and machine learning to the basics of financial markets, we teach and train the most modern skills. You will be designing your own trading algorithm before you know it.\n"
   ]
  },
  {
   "cell_type": "markdown",
   "metadata": {},
   "source": [
    "### Florida Atlantic University M.S. in Finance\n",
    "\n",
    "https://business.fau.edu/masters-phd/master-of-science/msfinance/index.php\n",
    "\n",
    "The 16-month Master of Science in Finance (MSF) program is specially designed to allow participants to continue their professional responsibilities while earning an AACSB-accredited Master of Science in Finance degree. With courses offered on Monday and Wednesday evenings, our full-service, all-inclusive program is specially designed for those with busy personal and professional commitments as well as for those who prefer the convenience of a full service, structured, cohort program. The Master of Science in Finance program trains current and future professionals for productive careers in financial management, investment banking and investment management."
   ]
  },
  {
   "cell_type": "markdown",
   "metadata": {},
   "source": [
    "### Drexel-LeBow College of Business M.S. in Quantitative Finance\n",
    "\n",
    "https://www.lebow.drexel.edu/academics/graduate/master-of-science/ms-finance\n",
    "\n",
    "Designed to combine quantitative and computer skills with financial theory and applications, our students become well-versed in several areas including risk management, financial engineering and portfolio analysis. Student gain skills that include data analysis, data mining and forecasting and have access to many resources including Bloomberg Terminals, FactSet, Compustat and much more."
   ]
  },
  {
   "cell_type": "markdown",
   "metadata": {},
   "source": [
    "### MIT Sloan M.S. in Finance\n",
    "\n",
    "http://mitsloan.mit.edu/mfin/\n",
    "\n",
    "http://mitsloan.mit.edu/mfin/apply/suggested-background/\n",
    "\n",
    "MFin carries with it a legendary reputation, world-renowned faculty and innovative, hands-on learning experiences in a top-ranked, early-stage finance degree. The program is adaptive to meet your specific requirements across a broad range of premier career opportunities in sought-after established financial institutions, corporations, consulting firms, the public sector and fintech."
   ]
  },
  {
   "cell_type": "markdown",
   "metadata": {},
   "source": [
    "### MIT Laboratory for Financial Engineering\n",
    "\n",
    "http://lfe.mit.edu/\n",
    "\n",
    "The MIT Laboratory for Financial Engineering (LFE) is a research center created as a partnership between academia and industry, designed to support and promote research in financial engineering and computational finance.\n",
    "\n",
    "The principal focus of the LFE is the quantitative analysis of financial markets using mathematical, statistical, and computational models and methods. The goal of LFE is not only to spur academic advances in financial engineering, but also to reach out to students, industry professionals, regulators, and policymakers to support their applications of financial technology in practical settings."
   ]
  },
  {
   "cell_type": "markdown",
   "metadata": {},
   "source": [
    "### Boston University Questrom School of Business\n",
    "\n",
    "https://www.bu.edu/questrom/degree-programs/ms-in-mathematical-finance/\n",
    "\n",
    "https://www.bu.edu/questrom/degree-programs/ms-in-mathematical-finance/suggested-reading-online-courses/\n",
    "\n",
    "This 17-month program launches you far beyond the Black-Scholes-Merton option pricing formula. It covers some of the most complex relations between various components of the modern financial system. This knowledge is indispensable in the design of financial instruments and policies that foster technological innovation and economic behavior."
   ]
  },
  {
   "cell_type": "markdown",
   "metadata": {},
   "source": [
    "### Coursera Financial Engineering 1\n",
    "\n",
    "https://www.coursera.org/learn/financial-engineering-1\n",
    "\n",
    "Financial Engineering is a multidisciplinary field drawing from finance and economics, mathematics, statistics, engineering and computational methods. The emphasis of FE & RM Part I will be on the use of simple stochastic models to price derivative securities in various asset classes including equities, fixed income, credit and mortgage-backed securities. We will also consider the role that some of these asset classes played during the financial crisis."
   ]
  },
  {
   "cell_type": "markdown",
   "metadata": {},
   "source": [
    "### Coursera Financial Engineering 2\n",
    "\n",
    "https://www.coursera.org/learn/financial-engineering-2"
   ]
  },
  {
   "cell_type": "markdown",
   "metadata": {},
   "source": [
    "### CME Group - CME Institute \n",
    "\n",
    "https://www.cmegroup.com/education.html\n",
    "\n",
    "Start learning about the futures and options markets with a variety of courses designed to help you at each stage of your trading journey. Whether you are brand new to the derivatives market, or an experienced trader looking to sharpen specific skills, our courses will help you deepen your knowledge and improve your understanding of our markets."
   ]
  },
  {
   "cell_type": "markdown",
   "metadata": {},
   "source": [
    "### Cboe Education Center\n",
    "\n",
    "http://www.cboe.com/education/\n",
    "\n",
    "The Options Institute, now in its 30th year, continues to set the bar for investor education worldwide. With deep expertise, tools and interactive resources, our world-renowned center can help novice and advanced investors alike more effectively use options and volatility strategies to manage risk and achieve their goals. Ultimately, we empower investors with precise and flexible means to achieve their targeted outcomes."
   ]
  },
  {
   "cell_type": "markdown",
   "metadata": {},
   "source": [
    "## Interactive Developement Environments and Package Distributions\n",
    "\n",
    "An integrated development environment (IDE) is a software application that provides comprehensive facilities to computer programmers for software development. An IDE normally consists of a source code editor, build automation tools, and a debugger. Most of the modern IDEs have intelligent code completion...The boundary between an integrated development environment and other parts of the broader software development environment is not well-defined. Sometimes a version control system, or various tools to simplify the construction of a graphical user interface (GUI), are integrated. Many modern IDEs also have a class browser, an object browser, and a class hierarchy diagram, for use in object-oriented software development.\n",
    "\n",
    "source: https://en.wikipedia.org/wiki/Integrated_development_environment"
   ]
  },
  {
   "cell_type": "markdown",
   "metadata": {},
   "source": [
    "### Anaconda Distribution\n",
    "\n",
    "https://www.anaconda.com/download/#macos\n",
    "\n",
    "The Most Trusted Distribution for Data Science\n",
    "\n",
    "Anaconda® is a package manager, an environment manager, a Python/R data science distribution, and a collection of over 1,500+ open source packages. Anaconda is free and easy to install, and it offers free community support.\n",
    "\n",
    "About: https://docs.anaconda.com/anaconda/\n",
    "\n",
    "High-Performance Distribution: Easily install 1,400+ data science packages\n",
    "\n",
    "http://docs.anaconda.com/anaconda/packages/pkg-docs/\n",
    "\n",
    "Package Management: Manage packages, dependencies and environments with conda\n",
    "\n",
    "https://conda.io/docs/"
   ]
  },
  {
   "cell_type": "markdown",
   "metadata": {},
   "source": [
    "### Spyder IDE\n",
    "\n",
    "https://www.spyder-ide.org/\n",
    "\n",
    "Spyder is a powerful scientific environment written in Python, for Python, and designed by and for scientists, engineers and data analysts. It offers a unique combination of the advanced editing, analysis, debugging, and profiling functionality of a comprehensive development tool with the data exploration, interactive execution, deep inspection, and beautiful visualization capabilities of a scientific package.\n",
    "\n",
    "Beyond its many built-in features, its abilities can be extended even further via its plugin system and API. Furthermore, Spyder can also be used as a PyQt5 extension library, allowing developers to build upon its functionality and embed its components, such as the interactive console, in their own PyQt software."
   ]
  },
  {
   "cell_type": "markdown",
   "metadata": {},
   "source": [
    "### Jupyter Notebooks\n",
    "\n",
    "https://jupyter.org/\n",
    "\n",
    "The Jupyter Notebook is an open-source web application that allows you to create and share documents that contain live code, equations, visualizations and narrative text. Uses include: data cleaning and transformation, numerical simulation, statistical modeling, data visualization, machine learning, and much more."
   ]
  },
  {
   "cell_type": "markdown",
   "metadata": {},
   "source": [
    "### PyCharm IDE\n",
    "\n",
    "PyCharm is designed by programmers, for programmers, to provide all the tools you need for productive Python development.\n",
    "\n",
    "PyCharm Professional Edition helps you analyze your data with Python. Just create a scientific project, add your data, and start analyzing.\n",
    "\n",
    "Academic discount: https://www.jetbrains.com/student/\n",
    "\n",
    "IDE Main: https://www.jetbrains.com/pycharm/\n",
    "\n",
    "Scientific tools: https://www.jetbrains.com/pycharm/features/scientific_tools.html"
   ]
  },
  {
   "cell_type": "markdown",
   "metadata": {},
   "source": [
    "### Essential Python Packages (most are included in the Anaconda Distribution)"
   ]
  },
  {
   "cell_type": "markdown",
   "metadata": {},
   "source": [
    "#### Numpy \n",
    "\n",
    "http://www.numpy.org/\n",
    "\n",
    "NumPy is the fundamental package for scientific computing with Python. It contains among other things:\n",
    "\n",
    "- a powerful N-dimensional array object\n",
    "- sophisticated (broadcasting) functions\n",
    "- tools for integrating C/C++ and Fortran code\n",
    "- useful linear algebra, Fourier transform, and random number capabilities\n",
    "\n",
    "Besides its obvious scientific uses, NumPy can also be used as an efficient multi-dimensional container of generic data. Arbitrary data-types can be defined. This allows NumPy to seamlessly and speedily integrate with a wide variety of databases."
   ]
  },
  {
   "cell_type": "markdown",
   "metadata": {},
   "source": [
    "#### Pandas \n",
    "\n",
    "https://pandas.pydata.org/pandas-docs/stable/index.html#\n",
    "\n",
    "pandas is a Python package providing fast, flexible, and expressive data structures designed to make working with “relational” or “labeled” data both easy and intuitive. It aims to be the fundamental high-level building block for doing practical, real world data analysis in Python. Additionally, it has the broader goal of becoming the most powerful and flexible open source data analysis / manipulation tool available in any language. It is already well on its way toward this goal.\n",
    "\n",
    "pandas is well suited for many different kinds of data:\n",
    "\n",
    "- Tabular data with heterogeneously-typed columns, as in an SQL table or Excel spreadsheet\n",
    "- Ordered and unordered (not necessarily fixed-frequency) time series data.\n",
    "- Arbitrary matrix data (homogeneously typed or heterogeneous) with row and column labels\n",
    "- Any other form of observational / statistical data sets. The data actually need not be   labeled at all to be placed into a pandas data structure"
   ]
  },
  {
   "cell_type": "markdown",
   "metadata": {},
   "source": [
    "#### Plotly \n",
    "\n",
    "https://plot.ly/python/\n",
    "\n",
    "Plotly's Python graphing library makes interactive, publication-quality graphs online. Examples of how to make line plots, scatter plots, area charts, bar charts, error bars, box plots, histograms, heatmaps, subplots, multiple-axes, polar charts, and bubble charts."
   ]
  },
  {
   "cell_type": "markdown",
   "metadata": {},
   "source": [
    "#### Cufflinks \n",
    "\n",
    "https://plot.ly/ipython-notebooks/cufflinks/\n",
    "\n",
    "Interactive pandas charting with Ploty"
   ]
  },
  {
   "cell_type": "markdown",
   "metadata": {},
   "source": [
    "#### Matplotlib\n",
    "\n",
    "https://matplotlib.org/\n",
    "\n",
    "Matplotlib is a Python 2D plotting library which produces publication quality figures in a variety of hardcopy formats and interactive environments across platforms. Matplotlib can be used in Python scripts, the Python and IPython shells, the Jupyter notebook, web application servers, and four graphical user interface toolkits."
   ]
  },
  {
   "cell_type": "markdown",
   "metadata": {},
   "source": [
    "#### Seaborn \n",
    "\n",
    "https://seaborn.pydata.org/\n",
    "\n",
    "Seaborn is a Python data visualization library based on matplotlib. It provides a high-level interface for drawing attractive and informative statistical graphics."
   ]
  },
  {
   "cell_type": "markdown",
   "metadata": {},
   "source": [
    "#### Scikit-learn \n",
    "\n",
    "https://scikit-learn.org/stable/\n",
    "\n",
    "- Simple and efficient tools for data mining and data analysis\n",
    "- Accessible to everybody, and reusable in various contexts\n",
    "- Built on NumPy, SciPy, and matplotlib\n",
    "- Open source, commercially usable - BSD license"
   ]
  },
  {
   "cell_type": "markdown",
   "metadata": {},
   "source": [
    "#### PyExcel\n",
    "\n",
    "http://docs.pyexcel.org/en/latest/\n",
    "\n",
    "pyexcel provides one application programming interface to read, manipulate and write data in various excel formats. This library makes information processing involving excel files an enjoyable task. The data in excel files can be turned into array or dict with minimal code and vice versa. This library focuses on data processing using excel files as storage media hence fonts, colors and charts were not and will not be considered."
   ]
  },
  {
   "cell_type": "markdown",
   "metadata": {},
   "source": [
    "#### Pyfolio \n",
    "\n",
    "https://github.com/quantopian/pyfolio\n",
    "\n",
    "pyfolio is a Python library for performance and risk analysis of financial portfolios developed by Quantopian Inc. It works well with the Zipline open source backtesting library.\n",
    "\n",
    "At the core of pyfolio is a so-called tear sheet that consists of various individual plots that provide a comprehensive image of the performance of a trading algorithm. Here's an example of a simple tear sheet analyzing a strategy:"
   ]
  },
  {
   "cell_type": "markdown",
   "metadata": {},
   "source": [
    "#### Dx-Analytics \n",
    "\n",
    "https://dx-analytics.com/\n",
    "\n",
    "DX Analytics is a Python-based financial analytics library (in its early stages) which allows the modeling of rather complex derivatives instruments and portfolios. Make sure to fully understand what you are using this library for and how to apply it. Please also read the license text and disclaimer."
   ]
  },
  {
   "cell_type": "markdown",
   "metadata": {},
   "source": [
    "#### PyLaTeX\n",
    "\n",
    "https://jeltef.github.io/PyLaTeX/current/index.html\n",
    "\n",
    "PyLaTeX is a Python library for creating and compiling LaTeX files. The goal of this library is to be an easy, but extensible interface between Python and LaTeX.\n",
    "\n",
    "PyLaTeX has two quite different usages: generating full pdfs and generating LaTeX snippets. Generating full pdfs is mostly useful when all the text that pdf should contain is generated by python, for instance exporting the data from a database. Snippets are useful when some text still needs to be written by hand, but some stuff can be automatically generated, for instance writing a report with a couple of matplotlib plots."
   ]
  },
  {
   "cell_type": "markdown",
   "metadata": {},
   "source": [
    "#### Sphinx\n",
    "\n",
    "http://www.sphinx-doc.org/en/master/index.html\n",
    "\n",
    "Sphinx is a tool that makes it easy to create intelligent and beautiful documentation, written by Georg Brandl and licensed under the BSD license.\n",
    "\n",
    "It was originally created for the Python documentation, and it has excellent facilities for the documentation of software projects in a range of languages. Of course, this site is also created from reStructuredText sources using Sphinx! The following features should be highlighted:\n",
    "\n",
    "- Output formats: HTML (including Windows HTML Help), LaTeX (for printable PDF versions), ePub, Texinfo, manual pages, plain text\n",
    "- Extensive cross-references: semantic markup and automatic links for functions, classes, citations, glossary terms and similar pieces of information\n",
    "- Hierarchical structure: easy definition of a document tree, with automatic links to siblings, parents and children\n",
    "- Automatic indices: general index as well as a language-specific module indices\n",
    "- Code handling: automatic highlighting using the Pygments highlighter\n",
    "- Extensions: automatic testing of code snippets, inclusion of docstrings from Python modules (API docs), and more\n",
    "- Contributed extensions: more than 50 extensions contributed by users in a second repository; most of them installable from PyPI"
   ]
  },
  {
   "cell_type": "markdown",
   "metadata": {},
   "source": [
    "## Data Sets\n",
    "\n",
    "As Renée Teate stated on the podcast - DataFramed, by DataCamp - \n",
    "\n",
    "\"...I always encourage people to find datasets that are interesting to them and use them throughout their learning journey because it keeps you interested when things get tough and also you'll understand the output better if it's something that you've had a background in or even interested in. If you're into sports, use a sports data set because you'll have a better sense of whether the output of your model even makes sense in context of sports.\"\n",
    "\n",
    "podcast episode with Renée: https://www.datacamp.com/community/podcast/becoming-data-scientist"
   ]
  },
  {
   "cell_type": "markdown",
   "metadata": {},
   "source": [
    "### AQR Data Sets\n",
    "\n",
    "https://www.aqr.com/Insights/Datasets"
   ]
  },
  {
   "cell_type": "markdown",
   "metadata": {},
   "source": [
    "### Dr. Ken French Data Sets\n",
    "\n",
    "http://mba.tuck.dartmouth.edu/pages/faculty/ken.french/data_library.html"
   ]
  },
  {
   "cell_type": "markdown",
   "metadata": {},
   "source": [
    "### Dr. Robert Shiller Data Sets\n",
    "\n",
    "http://www.econ.yale.edu/~shiller/data.htm"
   ]
  },
  {
   "cell_type": "markdown",
   "metadata": {},
   "source": [
    "### Quantopian Data Sets\n",
    "\n",
    "https://www.quantopian.com/data"
   ]
  },
  {
   "cell_type": "markdown",
   "metadata": {},
   "source": [
    "### Quandl Data Sets\n",
    "\n",
    "https://www.quandl.com/"
   ]
  },
  {
   "cell_type": "markdown",
   "metadata": {},
   "source": [
    "### Intrinio Dat Sets\n",
    "\n",
    "https://intrinio.com/"
   ]
  },
  {
   "cell_type": "markdown",
   "metadata": {},
   "source": [
    "### IEX Trading Data Sets\n",
    "\n",
    "Data: https://iextrading.com/trading/market-data/\n",
    "\n",
    "API: https://iextrading.com/developer/docs/\n",
    "\n",
    "Package: https://pypi.org/project/iexfinance/"
   ]
  },
  {
   "cell_type": "markdown",
   "metadata": {},
   "source": [
    "### Numerai\n",
    "\n",
    "https://numer.ai/learn"
   ]
  },
  {
   "cell_type": "markdown",
   "metadata": {},
   "source": [
    "### St. Louis Federal Reserve \n",
    "\n",
    "Data: https://fred.stlouisfed.org/\n",
    "\n",
    "API: https://research.stlouisfed.org/docs/api/fred/"
   ]
  },
  {
   "cell_type": "markdown",
   "metadata": {},
   "source": [
    "## Books\n",
    "\n",
    "In trying to stick to the Python + Finance niche, I've limited the number of books listed. "
   ]
  },
  {
   "cell_type": "markdown",
   "metadata": {},
   "source": [
    "### Dr. Yves Hilpisch\n",
    "\n",
    "Python for Finance (2nd ed): https://py4fi.tpq.io/\n",
    "\n",
    "Derivatives Analytics with Python: https://dawp.tpq.io/\n",
    "\n",
    "Listed Volatility and Variance: https://lvvd.tpq.io/"
   ]
  },
  {
   "cell_type": "markdown",
   "metadata": {},
   "source": [
    "### Dr. Wesley R. Gray\n",
    "\n",
    "Quantitative Value | Quantitative Momentum \n",
    "\n",
    "https://alphaarchitect.com/book/"
   ]
  },
  {
   "cell_type": "markdown",
   "metadata": {},
   "source": [
    "### Dr. Harry Markowitz \n",
    "\n",
    "Portfolio Selection\n",
    "\n",
    "https://www.amazon.com/Portfolio-Selection-Efficient-Diversification-Investments/dp/1557861080/ref=sr_1_2?ie=UTF8&qid=1547921355&sr=8-2&keywords=isbn-13%3A+978-1-55786-108-5"
   ]
  },
  {
   "cell_type": "markdown",
   "metadata": {},
   "source": [
    "### Dr. Eugene Fama\n",
    "\n",
    "The Fama Portfolio\n",
    "\n",
    "https://www.amazon.com/Fama-Portfolio-Selected-Papers-Eugene/dp/022642684X/ref=sr_1_1?ie=UTF8&qid=1547921437&sr=8-1&keywords=fama+portfolio"
   ]
  },
  {
   "cell_type": "markdown",
   "metadata": {},
   "source": [
    "### M.J. Alhabeeb\n",
    "\n",
    "Mathematical Finance\n",
    "\n",
    "https://www.wiley.com/en-us/Mathematical+Finance-p-9781118302859"
   ]
  },
  {
   "cell_type": "markdown",
   "metadata": {},
   "source": [
    "### Dr. Marcos Lopez de Prado\n",
    "\n",
    "Advances in Financial Machine Learning\n",
    "\n",
    "https://www.wiley.com/en-us/Advances+in+Financial+Machine+Learning-p-9781119482109"
   ]
  },
  {
   "cell_type": "markdown",
   "metadata": {},
   "source": [
    "### Neftci et al\n",
    "\n",
    "Principles of Financial Engineering\n",
    "\n",
    "https://www.amazon.com/Principles-Financial-Engineering-Academic-Advanced/dp/0123869684"
   ]
  },
  {
   "cell_type": "markdown",
   "metadata": {},
   "source": [
    "### Müller et al\n",
    "\n",
    "Introduction to Machine Learning in Python\n",
    "\n",
    "https://www.oreilly.com/library/view/introduction-to-machine/9781449369880/\n"
   ]
  },
  {
   "cell_type": "markdown",
   "metadata": {},
   "source": [
    "### Kaminski et al\n",
    "\n",
    "Trend Following with Managed Futures\n",
    "\n",
    "https://www.amazon.com/Trend-Following-Managed-Futures-Trading/dp/1118890973"
   ]
  },
  {
   "cell_type": "markdown",
   "metadata": {},
   "source": [
    "### Dr. Steven Shreve\n",
    "\n",
    "Stochastic Calculus for Finance I & II\n",
    "\n",
    "I: https://amzn.to/2FBjetc\n",
    "\n",
    "II: https://amzn.to/2sCJkUa"
   ]
  }
 ],
 "metadata": {
  "kernelspec": {
   "display_name": "Python 3",
   "language": "python",
   "name": "python3"
  },
  "language_info": {
   "codemirror_mode": {
    "name": "ipython",
    "version": 3
   },
   "file_extension": ".py",
   "mimetype": "text/x-python",
   "name": "python",
   "nbconvert_exporter": "python",
   "pygments_lexer": "ipython3",
   "version": "3.7.1"
  }
 },
 "nbformat": 4,
 "nbformat_minor": 2
}
