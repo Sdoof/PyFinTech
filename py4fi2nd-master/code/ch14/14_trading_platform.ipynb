{
 "cells": [
  {
   "cell_type": "markdown",
   "metadata": {},
   "source": [
    "<img src=\"http://hilpisch.com/tpq_logo.png\" alt=\"The Python Quants\" width=\"35%\" align=\"right\" border=\"0\"><br>"
   ]
  },
  {
   "cell_type": "markdown",
   "metadata": {},
   "source": [
    "# Python for Finance (2nd ed.)\n",
    "\n",
    "**Mastering Data-Driven Finance**\n",
    "\n",
    "&copy; Dr. Yves J. Hilpisch | The Python Quants GmbH\n",
    "\n",
    "<img src=\"http://hilpisch.com/images/py4fi_2nd_shadow.png\" width=\"300px\" align=\"left\">"
   ]
  },
  {
   "cell_type": "markdown",
   "metadata": {},
   "source": [
    "# Trading Platform"
   ]
  },
  {
   "cell_type": "markdown",
   "metadata": {},
   "source": [
    "## Risk Disclaimer"
   ]
  },
  {
   "cell_type": "markdown",
   "metadata": {},
   "source": [
    "<font size=\"-1\">\n",
    "Trading forex/CFDs on margin carries a high level of risk and may not be suitable for all investors as you could sustain losses in excess of deposits. Leverage can work against you. Due to the certain restrictions imposed by the local law and regulation, German resident retail client(s) could sustain a total loss of deposited funds but are not subject to subsequent payment obligations beyond the deposited funds. Be aware and fully understand all risks associated with the market and trading. Prior to trading any products, carefully consider your financial situation and experience level. Any opinions, news, research, analyses, prices, or other information is provided as general market commentary, and does not constitute investment advice. FXCM & TPQ will not accept liability for any loss or damage, including without limitation to, any loss of profit, which may arise directly or indirectly from use of or reliance on such information.\n",
    "</font>"
   ]
  },
  {
   "cell_type": "markdown",
   "metadata": {},
   "source": [
    "## Author Disclaimer"
   ]
  },
  {
   "cell_type": "markdown",
   "metadata": {},
   "source": [
    "The author is neither an employee, agent nor representative of FXCM and is therefore acting independently. The opinions given are their own, constitute general market commentary, and do not constitute the opinion or advice of FXCM or any form of personal or investment advice. FXCM assumes no responsibility for any loss or damage, including but not limited to, any loss or gain arising out of the direct or indirect use of this or any other content. Trading forex/CFDs on margin carries a high level of risk and may not be suitable for all investors as you could sustain losses in excess of deposits."
   ]
  },
  {
   "cell_type": "markdown",
   "metadata": {},
   "source": [
    "## Retrieving Tick Data"
   ]
  },
  {
   "cell_type": "code",
   "execution_count": 1,
   "metadata": {},
   "outputs": [],
   "source": [
    "import time\n",
    "import numpy as np\n",
    "import pandas as pd\n",
    "import datetime as dt\n",
    "from pylab import mpl, plt"
   ]
  },
  {
   "cell_type": "code",
   "execution_count": 2,
   "metadata": {},
   "outputs": [],
   "source": [
    "plt.style.use('seaborn')\n",
    "mpl.rcParams['font.family'] = 'serif'\n",
    "%matplotlib inline"
   ]
  },
  {
   "cell_type": "code",
   "execution_count": 3,
   "metadata": {},
   "outputs": [],
   "source": [
    "from fxcmpy import fxcmpy_tick_data_reader as tdr"
   ]
  },
  {
   "cell_type": "code",
   "execution_count": 4,
   "metadata": {},
   "outputs": [
    {
     "name": "stdout",
     "output_type": "stream",
     "text": [
      "('AUDCAD', 'AUDCHF', 'AUDJPY', 'AUDNZD', 'CADCHF', 'EURAUD', 'EURCHF', 'EURGBP', 'EURJPY', 'EURUSD', 'GBPCHF', 'GBPJPY', 'GBPNZD', 'GBPUSD', 'GBPCHF', 'GBPJPY', 'GBPNZD', 'NZDCAD', 'NZDCHF', 'NZDJPY', 'NZDUSD', 'USDCAD', 'USDCHF', 'USDJPY')\n"
     ]
    }
   ],
   "source": [
    "print(tdr.get_available_symbols())"
   ]
  },
  {
   "cell_type": "code",
   "execution_count": 5,
   "metadata": {},
   "outputs": [],
   "source": [
    "start = dt.datetime(2018, 6, 25)  \n",
    "stop = dt.datetime(2018, 6, 30)  "
   ]
  },
  {
   "cell_type": "code",
   "execution_count": 6,
   "metadata": {},
   "outputs": [],
   "source": [
    "td = tdr('EURUSD', start, stop)  "
   ]
  },
  {
   "cell_type": "code",
   "execution_count": 7,
   "metadata": {},
   "outputs": [
    {
     "name": "stdout",
     "output_type": "stream",
     "text": [
      "<class 'pandas.core.frame.DataFrame'>\n",
      "Index: 1963779 entries, 06/24/2018 21:00:12.290 to 06/29/2018 20:59:00.607\n",
      "Data columns (total 2 columns):\n",
      "Bid    float64\n",
      "Ask    float64\n",
      "dtypes: float64(2)\n",
      "memory usage: 44.9+ MB\n"
     ]
    }
   ],
   "source": [
    "td.get_raw_data().info()  "
   ]
  },
  {
   "cell_type": "code",
   "execution_count": 8,
   "metadata": {},
   "outputs": [
    {
     "name": "stdout",
     "output_type": "stream",
     "text": [
      "<class 'pandas.core.frame.DataFrame'>\n",
      "DatetimeIndex: 1963779 entries, 2018-06-24 21:00:12.290000 to 2018-06-29 20:59:00.607000\n",
      "Data columns (total 2 columns):\n",
      "Bid    float64\n",
      "Ask    float64\n",
      "dtypes: float64(2)\n",
      "memory usage: 44.9 MB\n"
     ]
    }
   ],
   "source": [
    "td.get_data().info()  "
   ]
  },
  {
   "cell_type": "code",
   "execution_count": 9,
   "metadata": {},
   "outputs": [
    {
     "data": {
      "text/html": [
       "<div>\n",
       "<style scoped>\n",
       "    .dataframe tbody tr th:only-of-type {\n",
       "        vertical-align: middle;\n",
       "    }\n",
       "\n",
       "    .dataframe tbody tr th {\n",
       "        vertical-align: top;\n",
       "    }\n",
       "\n",
       "    .dataframe thead th {\n",
       "        text-align: right;\n",
       "    }\n",
       "</style>\n",
       "<table border=\"1\" class=\"dataframe\">\n",
       "  <thead>\n",
       "    <tr style=\"text-align: right;\">\n",
       "      <th></th>\n",
       "      <th>Bid</th>\n",
       "      <th>Ask</th>\n",
       "    </tr>\n",
       "  </thead>\n",
       "  <tbody>\n",
       "    <tr>\n",
       "      <th>2018-06-24 21:00:12.290</th>\n",
       "      <td>1.1662</td>\n",
       "      <td>1.16660</td>\n",
       "    </tr>\n",
       "    <tr>\n",
       "      <th>2018-06-24 21:00:16.046</th>\n",
       "      <td>1.1662</td>\n",
       "      <td>1.16650</td>\n",
       "    </tr>\n",
       "    <tr>\n",
       "      <th>2018-06-24 21:00:22.846</th>\n",
       "      <td>1.1662</td>\n",
       "      <td>1.16658</td>\n",
       "    </tr>\n",
       "    <tr>\n",
       "      <th>2018-06-24 21:00:22.907</th>\n",
       "      <td>1.1662</td>\n",
       "      <td>1.16660</td>\n",
       "    </tr>\n",
       "    <tr>\n",
       "      <th>2018-06-24 21:00:23.441</th>\n",
       "      <td>1.1662</td>\n",
       "      <td>1.16663</td>\n",
       "    </tr>\n",
       "  </tbody>\n",
       "</table>\n",
       "</div>"
      ],
      "text/plain": [
       "                            Bid      Ask\n",
       "2018-06-24 21:00:12.290  1.1662  1.16660\n",
       "2018-06-24 21:00:16.046  1.1662  1.16650\n",
       "2018-06-24 21:00:22.846  1.1662  1.16658\n",
       "2018-06-24 21:00:22.907  1.1662  1.16660\n",
       "2018-06-24 21:00:23.441  1.1662  1.16663"
      ]
     },
     "execution_count": 9,
     "metadata": {},
     "output_type": "execute_result"
    }
   ],
   "source": [
    "td.get_data().head()"
   ]
  },
  {
   "cell_type": "code",
   "execution_count": 10,
   "metadata": {},
   "outputs": [],
   "source": [
    "sub = td.get_data(start='2018-06-29 12:00:00',\n",
    "                  end='2018-06-29 12:15:00')  "
   ]
  },
  {
   "cell_type": "code",
   "execution_count": 11,
   "metadata": {},
   "outputs": [
    {
     "data": {
      "text/html": [
       "<div>\n",
       "<style scoped>\n",
       "    .dataframe tbody tr th:only-of-type {\n",
       "        vertical-align: middle;\n",
       "    }\n",
       "\n",
       "    .dataframe tbody tr th {\n",
       "        vertical-align: top;\n",
       "    }\n",
       "\n",
       "    .dataframe thead th {\n",
       "        text-align: right;\n",
       "    }\n",
       "</style>\n",
       "<table border=\"1\" class=\"dataframe\">\n",
       "  <thead>\n",
       "    <tr style=\"text-align: right;\">\n",
       "      <th></th>\n",
       "      <th>Bid</th>\n",
       "      <th>Ask</th>\n",
       "    </tr>\n",
       "  </thead>\n",
       "  <tbody>\n",
       "    <tr>\n",
       "      <th>2018-06-29 12:00:00.011</th>\n",
       "      <td>1.16497</td>\n",
       "      <td>1.16498</td>\n",
       "    </tr>\n",
       "    <tr>\n",
       "      <th>2018-06-29 12:00:00.071</th>\n",
       "      <td>1.16497</td>\n",
       "      <td>1.16497</td>\n",
       "    </tr>\n",
       "    <tr>\n",
       "      <th>2018-06-29 12:00:00.079</th>\n",
       "      <td>1.16497</td>\n",
       "      <td>1.16498</td>\n",
       "    </tr>\n",
       "    <tr>\n",
       "      <th>2018-06-29 12:00:00.091</th>\n",
       "      <td>1.16495</td>\n",
       "      <td>1.16498</td>\n",
       "    </tr>\n",
       "    <tr>\n",
       "      <th>2018-06-29 12:00:00.205</th>\n",
       "      <td>1.16496</td>\n",
       "      <td>1.16498</td>\n",
       "    </tr>\n",
       "  </tbody>\n",
       "</table>\n",
       "</div>"
      ],
      "text/plain": [
       "                             Bid      Ask\n",
       "2018-06-29 12:00:00.011  1.16497  1.16498\n",
       "2018-06-29 12:00:00.071  1.16497  1.16497\n",
       "2018-06-29 12:00:00.079  1.16497  1.16498\n",
       "2018-06-29 12:00:00.091  1.16495  1.16498\n",
       "2018-06-29 12:00:00.205  1.16496  1.16498"
      ]
     },
     "execution_count": 11,
     "metadata": {},
     "output_type": "execute_result"
    }
   ],
   "source": [
    "sub.head()"
   ]
  },
  {
   "cell_type": "code",
   "execution_count": 12,
   "metadata": {},
   "outputs": [],
   "source": [
    "sub['Mid'] = sub.mean(axis=1)  "
   ]
  },
  {
   "cell_type": "code",
   "execution_count": 13,
   "metadata": {},
   "outputs": [],
   "source": [
    "sub['SMA'] = sub['Mid'].rolling(1000).mean()  "
   ]
  },
  {
   "cell_type": "code",
   "execution_count": 14,
   "metadata": {
    "scrolled": false
   },
   "outputs": [
    {
     "data": {
      "image/png": "[encoded data removed]",
      "text/plain": [
       "<Figure size 720x432 with 1 Axes>"
      ]
     },
     "metadata": {
      "needs_background": "light"
     },
     "output_type": "display_data"
    }
   ],
   "source": [
    "sub[['Mid', 'SMA']].plot(figsize=(10, 6), lw=0.75);\n",
    "# plt.savefig('../../images/ch14/fxcm_plot_01.png')"
   ]
  },
  {
   "cell_type": "markdown",
   "metadata": {},
   "source": [
    "## Retrieving Candles Data"
   ]
  },
  {
   "cell_type": "code",
   "execution_count": 15,
   "metadata": {},
   "outputs": [],
   "source": [
    "from fxcmpy import fxcmpy_candles_data_reader as cdr"
   ]
  },
  {
   "cell_type": "code",
   "execution_count": 16,
   "metadata": {},
   "outputs": [
    {
     "name": "stdout",
     "output_type": "stream",
     "text": [
      "('AUDCAD', 'AUDCHF', 'AUDJPY', 'AUDNZD', 'CADCHF', 'EURAUD', 'EURCHF', 'EURGBP', 'EURJPY', 'EURUSD', 'GBPCHF', 'GBPJPY', 'GBPNZD', 'GBPUSD', 'GBPCHF', 'GBPJPY', 'GBPNZD', 'NZDCAD', 'NZDCHF', 'NZDJPY', 'NZDUSD', 'USDCAD', 'USDCHF', 'USDJPY')\n"
     ]
    }
   ],
   "source": [
    "print(cdr.get_available_symbols())"
   ]
  },
  {
   "cell_type": "code",
   "execution_count": 17,
   "metadata": {},
   "outputs": [],
   "source": [
    "start = dt.datetime(2018, 5, 1)\n",
    "stop = dt.datetime(2018, 6, 30)"
   ]
  },
  {
   "cell_type": "markdown",
   "metadata": {},
   "source": [
    "`period` must be one of `m1`, `H1` or `D1`"
   ]
  },
  {
   "cell_type": "code",
   "execution_count": 18,
   "metadata": {},
   "outputs": [],
   "source": [
    "period = 'H1'  "
   ]
  },
  {
   "cell_type": "code",
   "execution_count": 19,
   "metadata": {},
   "outputs": [],
   "source": [
    "candles = cdr('EURUSD', start, stop, period)"
   ]
  },
  {
   "cell_type": "code",
   "execution_count": 20,
   "metadata": {},
   "outputs": [],
   "source": [
    "data = candles.get_data()"
   ]
  },
  {
   "cell_type": "code",
   "execution_count": 21,
   "metadata": {},
   "outputs": [
    {
     "name": "stdout",
     "output_type": "stream",
     "text": [
      "<class 'pandas.core.frame.DataFrame'>\n",
      "DatetimeIndex: 1080 entries, 2018-04-29 21:00:00 to 2018-06-29 20:00:00\n",
      "Data columns (total 8 columns):\n",
      "BidOpen     1080 non-null float64\n",
      "BidHigh     1080 non-null float64\n",
      "BidLow      1080 non-null float64\n",
      "BidClose    1080 non-null float64\n",
      "AskOpen     1080 non-null float64\n",
      "AskHigh     1080 non-null float64\n",
      "AskLow      1080 non-null float64\n",
      "AskClose    1080 non-null float64\n",
      "dtypes: float64(8)\n",
      "memory usage: 75.9 KB\n"
     ]
    }
   ],
   "source": [
    "data.info()"
   ]
  },
  {
   "cell_type": "code",
   "execution_count": 22,
   "metadata": {},
   "outputs": [
    {
     "data": {
      "text/html": [
       "<div>\n",
       "<style scoped>\n",
       "    .dataframe tbody tr th:only-of-type {\n",
       "        vertical-align: middle;\n",
       "    }\n",
       "\n",
       "    .dataframe tbody tr th {\n",
       "        vertical-align: top;\n",
       "    }\n",
       "\n",
       "    .dataframe thead th {\n",
       "        text-align: right;\n",
       "    }\n",
       "</style>\n",
       "<table border=\"1\" class=\"dataframe\">\n",
       "  <thead>\n",
       "    <tr style=\"text-align: right;\">\n",
       "      <th></th>\n",
       "      <th>BidOpen</th>\n",
       "      <th>BidHigh</th>\n",
       "      <th>BidLow</th>\n",
       "      <th>BidClose</th>\n",
       "    </tr>\n",
       "  </thead>\n",
       "  <tbody>\n",
       "    <tr>\n",
       "      <th>2018-06-29 16:00:00</th>\n",
       "      <td>1.16768</td>\n",
       "      <td>1.16820</td>\n",
       "      <td>1.16731</td>\n",
       "      <td>1.16769</td>\n",
       "    </tr>\n",
       "    <tr>\n",
       "      <th>2018-06-29 17:00:00</th>\n",
       "      <td>1.16769</td>\n",
       "      <td>1.16826</td>\n",
       "      <td>1.16709</td>\n",
       "      <td>1.16781</td>\n",
       "    </tr>\n",
       "    <tr>\n",
       "      <th>2018-06-29 18:00:00</th>\n",
       "      <td>1.16781</td>\n",
       "      <td>1.16816</td>\n",
       "      <td>1.16668</td>\n",
       "      <td>1.16684</td>\n",
       "    </tr>\n",
       "    <tr>\n",
       "      <th>2018-06-29 19:00:00</th>\n",
       "      <td>1.16684</td>\n",
       "      <td>1.16792</td>\n",
       "      <td>1.16638</td>\n",
       "      <td>1.16774</td>\n",
       "    </tr>\n",
       "    <tr>\n",
       "      <th>2018-06-29 20:00:00</th>\n",
       "      <td>1.16774</td>\n",
       "      <td>1.16904</td>\n",
       "      <td>1.16758</td>\n",
       "      <td>1.16816</td>\n",
       "    </tr>\n",
       "  </tbody>\n",
       "</table>\n",
       "</div>"
      ],
      "text/plain": [
       "                     BidOpen  BidHigh   BidLow  BidClose\n",
       "2018-06-29 16:00:00  1.16768  1.16820  1.16731   1.16769\n",
       "2018-06-29 17:00:00  1.16769  1.16826  1.16709   1.16781\n",
       "2018-06-29 18:00:00  1.16781  1.16816  1.16668   1.16684\n",
       "2018-06-29 19:00:00  1.16684  1.16792  1.16638   1.16774\n",
       "2018-06-29 20:00:00  1.16774  1.16904  1.16758   1.16816"
      ]
     },
     "execution_count": 22,
     "metadata": {},
     "output_type": "execute_result"
    }
   ],
   "source": [
    "data[data.columns[:4]].tail()  "
   ]
  },
  {
   "cell_type": "code",
   "execution_count": 23,
   "metadata": {},
   "outputs": [
    {
     "data": {
      "text/html": [
       "<div>\n",
       "<style scoped>\n",
       "    .dataframe tbody tr th:only-of-type {\n",
       "        vertical-align: middle;\n",
       "    }\n",
       "\n",
       "    .dataframe tbody tr th {\n",
       "        vertical-align: top;\n",
       "    }\n",
       "\n",
       "    .dataframe thead th {\n",
       "        text-align: right;\n",
       "    }\n",
       "</style>\n",
       "<table border=\"1\" class=\"dataframe\">\n",
       "  <thead>\n",
       "    <tr style=\"text-align: right;\">\n",
       "      <th></th>\n",
       "      <th>AskOpen</th>\n",
       "      <th>AskHigh</th>\n",
       "      <th>AskLow</th>\n",
       "      <th>AskClose</th>\n",
       "    </tr>\n",
       "  </thead>\n",
       "  <tbody>\n",
       "    <tr>\n",
       "      <th>2018-06-29 16:00:00</th>\n",
       "      <td>1.16769</td>\n",
       "      <td>1.16820</td>\n",
       "      <td>1.16732</td>\n",
       "      <td>1.16771</td>\n",
       "    </tr>\n",
       "    <tr>\n",
       "      <th>2018-06-29 17:00:00</th>\n",
       "      <td>1.16771</td>\n",
       "      <td>1.16827</td>\n",
       "      <td>1.16711</td>\n",
       "      <td>1.16782</td>\n",
       "    </tr>\n",
       "    <tr>\n",
       "      <th>2018-06-29 18:00:00</th>\n",
       "      <td>1.16782</td>\n",
       "      <td>1.16817</td>\n",
       "      <td>1.16669</td>\n",
       "      <td>1.16686</td>\n",
       "    </tr>\n",
       "    <tr>\n",
       "      <th>2018-06-29 19:00:00</th>\n",
       "      <td>1.16686</td>\n",
       "      <td>1.16794</td>\n",
       "      <td>1.16640</td>\n",
       "      <td>1.16775</td>\n",
       "    </tr>\n",
       "    <tr>\n",
       "      <th>2018-06-29 20:00:00</th>\n",
       "      <td>1.16775</td>\n",
       "      <td>1.16907</td>\n",
       "      <td>1.16760</td>\n",
       "      <td>1.16861</td>\n",
       "    </tr>\n",
       "  </tbody>\n",
       "</table>\n",
       "</div>"
      ],
      "text/plain": [
       "                     AskOpen  AskHigh   AskLow  AskClose\n",
       "2018-06-29 16:00:00  1.16769  1.16820  1.16732   1.16771\n",
       "2018-06-29 17:00:00  1.16771  1.16827  1.16711   1.16782\n",
       "2018-06-29 18:00:00  1.16782  1.16817  1.16669   1.16686\n",
       "2018-06-29 19:00:00  1.16686  1.16794  1.16640   1.16775\n",
       "2018-06-29 20:00:00  1.16775  1.16907  1.16760   1.16861"
      ]
     },
     "execution_count": 23,
     "metadata": {},
     "output_type": "execute_result"
    }
   ],
   "source": [
    "data[data.columns[4:]].tail()  "
   ]
  },
  {
   "cell_type": "code",
   "execution_count": 24,
   "metadata": {},
   "outputs": [],
   "source": [
    "data['MidClose'] = data[['BidClose', 'AskClose']].mean(axis=1)  "
   ]
  },
  {
   "cell_type": "code",
   "execution_count": 25,
   "metadata": {},
   "outputs": [],
   "source": [
    "data['SMA1'] = data['MidClose'].rolling(30).mean()  \n",
    "data['SMA2'] = data['MidClose'].rolling(100).mean()  "
   ]
  },
  {
   "cell_type": "code",
   "execution_count": 26,
   "metadata": {},
   "outputs": [
    {
     "data": {
      "image/png": "[encoded data removed]",
      "text/plain": [
       "<Figure size 720x432 with 1 Axes>"
      ]
     },
     "metadata": {
      "needs_background": "light"
     },
     "output_type": "display_data"
    }
   ],
   "source": [
    "data[['MidClose', 'SMA1', 'SMA2']].plot(figsize=(10, 6));\n",
    "# plt.savefig('../../images/ch14/fxcm_plot_02.png')"
   ]
  },
  {
   "cell_type": "markdown",
   "metadata": {},
   "source": [
    "## Connecting to the API"
   ]
  },
  {
   "cell_type": "code",
   "execution_count": 27,
   "metadata": {},
   "outputs": [],
   "source": [
    "import fxcmpy"
   ]
  },
  {
   "cell_type": "code",
   "execution_count": 28,
   "metadata": {},
   "outputs": [
    {
     "data": {
      "text/plain": [
       "'1.1.34'"
      ]
     },
     "execution_count": 28,
     "metadata": {},
     "output_type": "execute_result"
    }
   ],
   "source": [
    "fxcmpy.__version__"
   ]
  },
  {
   "cell_type": "code",
   "execution_count": null,
   "metadata": {},
   "outputs": [],
   "source": [
    "api = fxcmpy.fxcmpy(config_file='../../cfg/fxcm.cfg')  "
   ]
  },
  {
   "cell_type": "code",
   "execution_count": 30,
   "metadata": {},
   "outputs": [],
   "source": [
    "instruments = api.get_instruments()"
   ]
  },
  {
   "cell_type": "code",
   "execution_count": 31,
   "metadata": {},
   "outputs": [
    {
     "name": "stdout",
     "output_type": "stream",
     "text": [
      "['EUR/USD', 'USD/JPY', 'GBP/USD', 'USD/CHF', 'EUR/CHF', 'AUD/USD', 'USD/CAD', 'NZD/USD', 'EUR/GBP', 'EUR/JPY', 'GBP/JPY', 'CHF/JPY', 'GBP/CHF', 'EUR/AUD', 'EUR/CAD', 'AUD/CAD', 'AUD/JPY', 'CAD/JPY', 'NZD/JPY', 'GBP/CAD', 'GBP/NZD', 'GBP/AUD', 'AUD/NZD', 'USD/SEK', 'EUR/SEK', 'EUR/NOK', 'USD/NOK', 'USD/MXN', 'AUD/CHF', 'EUR/NZD', 'USD/ZAR', 'USD/HKD', 'ZAR/JPY', 'USD/TRY', 'EUR/TRY', 'NZD/CHF', 'CAD/CHF', 'NZD/CAD', 'TRY/JPY', 'USD/CNH', 'AUS200', 'ESP35', 'FRA40', 'GER30', 'HKG33', 'JPN225', 'NAS100', 'SPX500', 'UK100', 'US30', 'Copper', 'CHN50', 'EUSTX50', 'USDOLLAR', 'USOil', 'UKOil', 'SOYF', 'NGAS', 'Bund', 'XAU/USD', 'XAG/USD']\n"
     ]
    }
   ],
   "source": [
    "print(instruments)"
   ]
  },
  {
   "cell_type": "markdown",
   "metadata": {},
   "source": [
    "## Retrieving Historical Data"
   ]
  },
  {
   "cell_type": "code",
   "execution_count": 32,
   "metadata": {},
   "outputs": [],
   "source": [
    "candles = api.get_candles('USD/JPY', period='D1', number=10)  "
   ]
  },
  {
   "cell_type": "code",
   "execution_count": 33,
   "metadata": {},
   "outputs": [
    {
     "data": {
      "text/html": [
       "<div>\n",
       "<style scoped>\n",
       "    .dataframe tbody tr th:only-of-type {\n",
       "        vertical-align: middle;\n",
       "    }\n",
       "\n",
       "    .dataframe tbody tr th {\n",
       "        vertical-align: top;\n",
       "    }\n",
       "\n",
       "    .dataframe thead th {\n",
       "        text-align: right;\n",
       "    }\n",
       "</style>\n",
       "<table border=\"1\" class=\"dataframe\">\n",
       "  <thead>\n",
       "    <tr style=\"text-align: right;\">\n",
       "      <th></th>\n",
       "      <th>bidopen</th>\n",
       "      <th>bidclose</th>\n",
       "      <th>bidhigh</th>\n",
       "      <th>bidlow</th>\n",
       "    </tr>\n",
       "    <tr>\n",
       "      <th>date</th>\n",
       "      <th></th>\n",
       "      <th></th>\n",
       "      <th></th>\n",
       "      <th></th>\n",
       "    </tr>\n",
       "  </thead>\n",
       "  <tbody>\n",
       "    <tr>\n",
       "      <th>2018-07-12 21:00:00</th>\n",
       "      <td>112.014</td>\n",
       "      <td>112.534</td>\n",
       "      <td>112.627</td>\n",
       "      <td>111.915</td>\n",
       "    </tr>\n",
       "    <tr>\n",
       "      <th>2018-07-13 21:00:00</th>\n",
       "      <td>112.534</td>\n",
       "      <td>112.330</td>\n",
       "      <td>112.801</td>\n",
       "      <td>112.276</td>\n",
       "    </tr>\n",
       "    <tr>\n",
       "      <th>2018-07-15 21:00:00</th>\n",
       "      <td>112.330</td>\n",
       "      <td>112.200</td>\n",
       "      <td>112.364</td>\n",
       "      <td>112.100</td>\n",
       "    </tr>\n",
       "    <tr>\n",
       "      <th>2018-07-16 21:00:00</th>\n",
       "      <td>112.200</td>\n",
       "      <td>112.272</td>\n",
       "      <td>112.562</td>\n",
       "      <td>112.198</td>\n",
       "    </tr>\n",
       "    <tr>\n",
       "      <th>2018-07-17 21:00:00</th>\n",
       "      <td>112.272</td>\n",
       "      <td>112.871</td>\n",
       "      <td>112.925</td>\n",
       "      <td>112.228</td>\n",
       "    </tr>\n",
       "    <tr>\n",
       "      <th>2018-07-18 21:00:00</th>\n",
       "      <td>112.871</td>\n",
       "      <td>112.835</td>\n",
       "      <td>113.138</td>\n",
       "      <td>112.710</td>\n",
       "    </tr>\n",
       "    <tr>\n",
       "      <th>2018-07-19 21:00:00</th>\n",
       "      <td>112.835</td>\n",
       "      <td>112.462</td>\n",
       "      <td>113.176</td>\n",
       "      <td>112.064</td>\n",
       "    </tr>\n",
       "    <tr>\n",
       "      <th>2018-07-20 21:00:00</th>\n",
       "      <td>112.462</td>\n",
       "      <td>111.422</td>\n",
       "      <td>112.623</td>\n",
       "      <td>111.382</td>\n",
       "    </tr>\n",
       "    <tr>\n",
       "      <th>2018-07-22 21:00:00</th>\n",
       "      <td>111.360</td>\n",
       "      <td>111.380</td>\n",
       "      <td>111.392</td>\n",
       "      <td>111.165</td>\n",
       "    </tr>\n",
       "    <tr>\n",
       "      <th>2018-07-23 21:00:00</th>\n",
       "      <td>111.380</td>\n",
       "      <td>111.338</td>\n",
       "      <td>111.544</td>\n",
       "      <td>110.752</td>\n",
       "    </tr>\n",
       "  </tbody>\n",
       "</table>\n",
       "</div>"
      ],
      "text/plain": [
       "                     bidopen  bidclose  bidhigh   bidlow\n",
       "date                                                    \n",
       "2018-07-12 21:00:00  112.014   112.534  112.627  111.915\n",
       "2018-07-13 21:00:00  112.534   112.330  112.801  112.276\n",
       "2018-07-15 21:00:00  112.330   112.200  112.364  112.100\n",
       "2018-07-16 21:00:00  112.200   112.272  112.562  112.198\n",
       "2018-07-17 21:00:00  112.272   112.871  112.925  112.228\n",
       "2018-07-18 21:00:00  112.871   112.835  113.138  112.710\n",
       "2018-07-19 21:00:00  112.835   112.462  113.176  112.064\n",
       "2018-07-20 21:00:00  112.462   111.422  112.623  111.382\n",
       "2018-07-22 21:00:00  111.360   111.380  111.392  111.165\n",
       "2018-07-23 21:00:00  111.380   111.338  111.544  110.752"
      ]
     },
     "execution_count": 33,
     "metadata": {},
     "output_type": "execute_result"
    }
   ],
   "source": [
    "candles[candles.columns[:4]]  "
   ]
  },
  {
   "cell_type": "code",
   "execution_count": 34,
   "metadata": {},
   "outputs": [
    {
     "data": {
      "text/html": [
       "<div>\n",
       "<style scoped>\n",
       "    .dataframe tbody tr th:only-of-type {\n",
       "        vertical-align: middle;\n",
       "    }\n",
       "\n",
       "    .dataframe tbody tr th {\n",
       "        vertical-align: top;\n",
       "    }\n",
       "\n",
       "    .dataframe thead th {\n",
       "        text-align: right;\n",
       "    }\n",
       "</style>\n",
       "<table border=\"1\" class=\"dataframe\">\n",
       "  <thead>\n",
       "    <tr style=\"text-align: right;\">\n",
       "      <th></th>\n",
       "      <th>askopen</th>\n",
       "      <th>askclose</th>\n",
       "      <th>askhigh</th>\n",
       "      <th>asklow</th>\n",
       "      <th>tickqty</th>\n",
       "    </tr>\n",
       "    <tr>\n",
       "      <th>date</th>\n",
       "      <th></th>\n",
       "      <th></th>\n",
       "      <th></th>\n",
       "      <th></th>\n",
       "      <th></th>\n",
       "    </tr>\n",
       "  </thead>\n",
       "  <tbody>\n",
       "    <tr>\n",
       "      <th>2018-07-12 21:00:00</th>\n",
       "      <td>112.028</td>\n",
       "      <td>112.547</td>\n",
       "      <td>112.628</td>\n",
       "      <td>111.919</td>\n",
       "      <td>302016</td>\n",
       "    </tr>\n",
       "    <tr>\n",
       "      <th>2018-07-13 21:00:00</th>\n",
       "      <td>112.547</td>\n",
       "      <td>112.343</td>\n",
       "      <td>112.802</td>\n",
       "      <td>112.278</td>\n",
       "      <td>252161</td>\n",
       "    </tr>\n",
       "    <tr>\n",
       "      <th>2018-07-15 21:00:00</th>\n",
       "      <td>112.343</td>\n",
       "      <td>112.242</td>\n",
       "      <td>112.399</td>\n",
       "      <td>112.118</td>\n",
       "      <td>547</td>\n",
       "    </tr>\n",
       "    <tr>\n",
       "      <th>2018-07-16 21:00:00</th>\n",
       "      <td>112.242</td>\n",
       "      <td>112.302</td>\n",
       "      <td>112.565</td>\n",
       "      <td>112.217</td>\n",
       "      <td>200248</td>\n",
       "    </tr>\n",
       "    <tr>\n",
       "      <th>2018-07-17 21:00:00</th>\n",
       "      <td>112.302</td>\n",
       "      <td>112.892</td>\n",
       "      <td>112.926</td>\n",
       "      <td>112.228</td>\n",
       "      <td>286666</td>\n",
       "    </tr>\n",
       "    <tr>\n",
       "      <th>2018-07-18 21:00:00</th>\n",
       "      <td>112.892</td>\n",
       "      <td>112.845</td>\n",
       "      <td>113.139</td>\n",
       "      <td>112.711</td>\n",
       "      <td>251874</td>\n",
       "    </tr>\n",
       "    <tr>\n",
       "      <th>2018-07-19 21:00:00</th>\n",
       "      <td>112.845</td>\n",
       "      <td>112.477</td>\n",
       "      <td>113.179</td>\n",
       "      <td>112.065</td>\n",
       "      <td>313821</td>\n",
       "    </tr>\n",
       "    <tr>\n",
       "      <th>2018-07-20 21:00:00</th>\n",
       "      <td>112.477</td>\n",
       "      <td>111.481</td>\n",
       "      <td>112.625</td>\n",
       "      <td>111.388</td>\n",
       "      <td>413345</td>\n",
       "    </tr>\n",
       "    <tr>\n",
       "      <th>2018-07-22 21:00:00</th>\n",
       "      <td>111.400</td>\n",
       "      <td>111.396</td>\n",
       "      <td>111.402</td>\n",
       "      <td>111.186</td>\n",
       "      <td>563</td>\n",
       "    </tr>\n",
       "    <tr>\n",
       "      <th>2018-07-23 21:00:00</th>\n",
       "      <td>111.396</td>\n",
       "      <td>111.350</td>\n",
       "      <td>111.546</td>\n",
       "      <td>110.754</td>\n",
       "      <td>307482</td>\n",
       "    </tr>\n",
       "  </tbody>\n",
       "</table>\n",
       "</div>"
      ],
      "text/plain": [
       "                     askopen  askclose  askhigh   asklow  tickqty\n",
       "date                                                             \n",
       "2018-07-12 21:00:00  112.028   112.547  112.628  111.919   302016\n",
       "2018-07-13 21:00:00  112.547   112.343  112.802  112.278   252161\n",
       "2018-07-15 21:00:00  112.343   112.242  112.399  112.118      547\n",
       "2018-07-16 21:00:00  112.242   112.302  112.565  112.217   200248\n",
       "2018-07-17 21:00:00  112.302   112.892  112.926  112.228   286666\n",
       "2018-07-18 21:00:00  112.892   112.845  113.139  112.711   251874\n",
       "2018-07-19 21:00:00  112.845   112.477  113.179  112.065   313821\n",
       "2018-07-20 21:00:00  112.477   111.481  112.625  111.388   413345\n",
       "2018-07-22 21:00:00  111.400   111.396  111.402  111.186      563\n",
       "2018-07-23 21:00:00  111.396   111.350  111.546  110.754   307482"
      ]
     },
     "execution_count": 34,
     "metadata": {},
     "output_type": "execute_result"
    }
   ],
   "source": [
    "candles[candles.columns[4:]]  "
   ]
  },
  {
   "cell_type": "code",
   "execution_count": 35,
   "metadata": {},
   "outputs": [],
   "source": [
    "start = dt.datetime(2017, 1, 1)  \n",
    "end = dt.datetime(2018, 1, 1)  "
   ]
  },
  {
   "cell_type": "code",
   "execution_count": 36,
   "metadata": {},
   "outputs": [],
   "source": [
    "candles = api.get_candles('EUR/GBP', period='D1',\n",
    "                          start=start, stop=end)  "
   ]
  },
  {
   "cell_type": "code",
   "execution_count": 37,
   "metadata": {},
   "outputs": [
    {
     "name": "stdout",
     "output_type": "stream",
     "text": [
      "<class 'pandas.core.frame.DataFrame'>\n",
      "DatetimeIndex: 309 entries, 2017-01-03 22:00:00 to 2018-01-01 22:00:00\n",
      "Data columns (total 9 columns):\n",
      "bidopen     309 non-null float64\n",
      "bidclose    309 non-null float64\n",
      "bidhigh     309 non-null float64\n",
      "bidlow      309 non-null float64\n",
      "askopen     309 non-null float64\n",
      "askclose    309 non-null float64\n",
      "askhigh     309 non-null float64\n",
      "asklow      309 non-null float64\n",
      "tickqty     309 non-null int64\n",
      "dtypes: float64(8), int64(1)\n",
      "memory usage: 24.1 KB\n"
     ]
    }
   ],
   "source": [
    "candles.info()  "
   ]
  },
  {
   "cell_type": "markdown",
   "metadata": {},
   "source": [
    "The parameter `period` must be one of `m1, m5, m15, m30, H1, H2, H3, H4, H6, H8, D1, W1` or `M1`."
   ]
  },
  {
   "cell_type": "code",
   "execution_count": 38,
   "metadata": {},
   "outputs": [],
   "source": [
    "candles = api.get_candles('EUR/USD', period='m1', number=250)  "
   ]
  },
  {
   "cell_type": "code",
   "execution_count": 39,
   "metadata": {},
   "outputs": [
    {
     "data": {
      "image/png": "[encoded data removed]",
      "text/plain": [
       "<Figure size 720x432 with 1 Axes>"
      ]
     },
     "metadata": {},
     "output_type": "display_data"
    }
   ],
   "source": [
    "candles['askclose'].plot(figsize=(10, 6))\n",
    "# plt.savefig('../../images/ch14/fxcm_plot_03.png');"
   ]
  },
  {
   "cell_type": "markdown",
   "metadata": {},
   "source": [
    "## Streaming Data"
   ]
  },
  {
   "cell_type": "code",
   "execution_count": 40,
   "metadata": {},
   "outputs": [],
   "source": [
    "def output(data, dataframe):\n",
    "    print('%3d | %s | %s | %6.5f, %6.5f' \n",
    "          % (len(dataframe), data['Symbol'],\n",
    "             pd.to_datetime(int(data['Updated']), unit='ms'), \n",
    "             data['Rates'][0], data['Rates'][1]))  "
   ]
  },
  {
   "cell_type": "code",
   "execution_count": 41,
   "metadata": {},
   "outputs": [
    {
     "name": "stdout",
     "output_type": "stream",
     "text": [
      "  1 | EUR/USD | 2018-07-24 12:40:06.370000 | 1.16941, 1.16943\n",
      "  2 | EUR/USD | 2018-07-24 12:40:06.950000 | 1.16941, 1.16942\n",
      "  3 | EUR/USD | 2018-07-24 12:40:07.999000 | 1.16938, 1.16939\n",
      "  4 | EUR/USD | 2018-07-24 12:40:08.282000 | 1.16937, 1.16939\n",
      "  5 | EUR/USD | 2018-07-24 12:40:08.988000 | 1.16939, 1.16941\n",
      "  6 | EUR/USD | 2018-07-24 12:40:09.479000 | 1.16941, 1.16943\n"
     ]
    }
   ],
   "source": [
    "api.subscribe_market_data('EUR/USD', (output,))  "
   ]
  },
  {
   "cell_type": "code",
   "execution_count": 42,
   "metadata": {},
   "outputs": [
    {
     "data": {
      "text/plain": [
       "Bid     1.16941\n",
       "Ask     1.16943\n",
       "High    1.17169\n",
       "Low     1.16546\n",
       "Name: 2018-07-24 12:40:09.479000, dtype: float64"
      ]
     },
     "execution_count": 42,
     "metadata": {},
     "output_type": "execute_result"
    }
   ],
   "source": [
    "api.get_last_price('EUR/USD')  "
   ]
  },
  {
   "cell_type": "code",
   "execution_count": 43,
   "metadata": {},
   "outputs": [
    {
     "name": "stdout",
     "output_type": "stream",
     "text": [
      "  7 | EUR/USD | 2018-07-24 12:40:10.007000 | 1.16940, 1.16943\n"
     ]
    }
   ],
   "source": [
    "api.unsubscribe_market_data('EUR/USD')  "
   ]
  },
  {
   "cell_type": "markdown",
   "metadata": {},
   "source": [
    "## Placing Orders"
   ]
  },
  {
   "cell_type": "code",
   "execution_count": 44,
   "metadata": {},
   "outputs": [
    {
     "data": {
      "text/html": [
       "<div>\n",
       "<style scoped>\n",
       "    .dataframe tbody tr th:only-of-type {\n",
       "        vertical-align: middle;\n",
       "    }\n",
       "\n",
       "    .dataframe tbody tr th {\n",
       "        vertical-align: top;\n",
       "    }\n",
       "\n",
       "    .dataframe thead th {\n",
       "        text-align: right;\n",
       "    }\n",
       "</style>\n",
       "<table border=\"1\" class=\"dataframe\">\n",
       "  <thead>\n",
       "    <tr style=\"text-align: right;\">\n",
       "      <th></th>\n",
       "    </tr>\n",
       "  </thead>\n",
       "  <tbody>\n",
       "  </tbody>\n",
       "</table>\n",
       "</div>"
      ],
      "text/plain": [
       "Empty DataFrame\n",
       "Columns: []\n",
       "Index: []"
      ]
     },
     "execution_count": 44,
     "metadata": {},
     "output_type": "execute_result"
    }
   ],
   "source": [
    "api.get_open_positions()  "
   ]
  },
  {
   "cell_type": "code",
   "execution_count": 45,
   "metadata": {},
   "outputs": [],
   "source": [
    "order = api.create_market_buy_order('EUR/USD', 100)  "
   ]
  },
  {
   "cell_type": "code",
   "execution_count": 46,
   "metadata": {},
   "outputs": [],
   "source": [
    "sel = ['tradeId', 'amountK', 'currency',\n",
    "       'grossPL', 'isBuy']  "
   ]
  },
  {
   "cell_type": "code",
   "execution_count": 47,
   "metadata": {},
   "outputs": [
    {
     "data": {
      "text/html": [
       "<div>\n",
       "<style scoped>\n",
       "    .dataframe tbody tr th:only-of-type {\n",
       "        vertical-align: middle;\n",
       "    }\n",
       "\n",
       "    .dataframe tbody tr th {\n",
       "        vertical-align: top;\n",
       "    }\n",
       "\n",
       "    .dataframe thead th {\n",
       "        text-align: right;\n",
       "    }\n",
       "</style>\n",
       "<table border=\"1\" class=\"dataframe\">\n",
       "  <thead>\n",
       "    <tr style=\"text-align: right;\">\n",
       "      <th></th>\n",
       "      <th>tradeId</th>\n",
       "      <th>amountK</th>\n",
       "      <th>currency</th>\n",
       "      <th>grossPL</th>\n",
       "      <th>isBuy</th>\n",
       "    </tr>\n",
       "  </thead>\n",
       "  <tbody>\n",
       "    <tr>\n",
       "      <th>0</th>\n",
       "      <td>61471172</td>\n",
       "      <td>100</td>\n",
       "      <td>EUR/USD</td>\n",
       "      <td>-2</td>\n",
       "      <td>True</td>\n",
       "    </tr>\n",
       "  </tbody>\n",
       "</table>\n",
       "</div>"
      ],
      "text/plain": [
       "    tradeId  amountK currency  grossPL  isBuy\n",
       "0  61471172      100  EUR/USD       -2   True"
      ]
     },
     "execution_count": 47,
     "metadata": {},
     "output_type": "execute_result"
    }
   ],
   "source": [
    "api.get_open_positions()[sel]  "
   ]
  },
  {
   "cell_type": "code",
   "execution_count": 48,
   "metadata": {},
   "outputs": [],
   "source": [
    "order = api.create_market_buy_order('EUR/GBP', 50)  "
   ]
  },
  {
   "cell_type": "code",
   "execution_count": 49,
   "metadata": {},
   "outputs": [
    {
     "data": {
      "text/html": [
       "<div>\n",
       "<style scoped>\n",
       "    .dataframe tbody tr th:only-of-type {\n",
       "        vertical-align: middle;\n",
       "    }\n",
       "\n",
       "    .dataframe tbody tr th {\n",
       "        vertical-align: top;\n",
       "    }\n",
       "\n",
       "    .dataframe thead th {\n",
       "        text-align: right;\n",
       "    }\n",
       "</style>\n",
       "<table border=\"1\" class=\"dataframe\">\n",
       "  <thead>\n",
       "    <tr style=\"text-align: right;\">\n",
       "      <th></th>\n",
       "      <th>tradeId</th>\n",
       "      <th>amountK</th>\n",
       "      <th>currency</th>\n",
       "      <th>grossPL</th>\n",
       "      <th>isBuy</th>\n",
       "    </tr>\n",
       "  </thead>\n",
       "  <tbody>\n",
       "    <tr>\n",
       "      <th>0</th>\n",
       "      <td>61471172</td>\n",
       "      <td>100</td>\n",
       "      <td>EUR/USD</td>\n",
       "      <td>1.00000</td>\n",
       "      <td>True</td>\n",
       "    </tr>\n",
       "    <tr>\n",
       "      <th>1</th>\n",
       "      <td>61471174</td>\n",
       "      <td>50</td>\n",
       "      <td>EUR/GBP</td>\n",
       "      <td>-3.27961</td>\n",
       "      <td>True</td>\n",
       "    </tr>\n",
       "  </tbody>\n",
       "</table>\n",
       "</div>"
      ],
      "text/plain": [
       "    tradeId  amountK currency  grossPL  isBuy\n",
       "0  61471172      100  EUR/USD  1.00000   True\n",
       "1  61471174       50  EUR/GBP -3.27961   True"
      ]
     },
     "execution_count": 49,
     "metadata": {},
     "output_type": "execute_result"
    }
   ],
   "source": [
    "api.get_open_positions()[sel]"
   ]
  },
  {
   "cell_type": "code",
   "execution_count": 50,
   "metadata": {},
   "outputs": [],
   "source": [
    "order = api.create_market_sell_order('EUR/USD', 25)  "
   ]
  },
  {
   "cell_type": "code",
   "execution_count": 51,
   "metadata": {},
   "outputs": [],
   "source": [
    "order = api.create_market_buy_order('EUR/GBP', 50)  "
   ]
  },
  {
   "cell_type": "code",
   "execution_count": 52,
   "metadata": {},
   "outputs": [
    {
     "data": {
      "text/html": [
       "<div>\n",
       "<style scoped>\n",
       "    .dataframe tbody tr th:only-of-type {\n",
       "        vertical-align: middle;\n",
       "    }\n",
       "\n",
       "    .dataframe tbody tr th {\n",
       "        vertical-align: top;\n",
       "    }\n",
       "\n",
       "    .dataframe thead th {\n",
       "        text-align: right;\n",
       "    }\n",
       "</style>\n",
       "<table border=\"1\" class=\"dataframe\">\n",
       "  <thead>\n",
       "    <tr style=\"text-align: right;\">\n",
       "      <th></th>\n",
       "      <th>tradeId</th>\n",
       "      <th>amountK</th>\n",
       "      <th>currency</th>\n",
       "      <th>grossPL</th>\n",
       "      <th>isBuy</th>\n",
       "    </tr>\n",
       "  </thead>\n",
       "  <tbody>\n",
       "    <tr>\n",
       "      <th>0</th>\n",
       "      <td>61471174</td>\n",
       "      <td>50</td>\n",
       "      <td>EUR/GBP</td>\n",
       "      <td>-3.93560</td>\n",
       "      <td>True</td>\n",
       "    </tr>\n",
       "    <tr>\n",
       "      <th>1</th>\n",
       "      <td>61471213</td>\n",
       "      <td>75</td>\n",
       "      <td>EUR/USD</td>\n",
       "      <td>2.25000</td>\n",
       "      <td>True</td>\n",
       "    </tr>\n",
       "    <tr>\n",
       "      <th>2</th>\n",
       "      <td>61471177</td>\n",
       "      <td>50</td>\n",
       "      <td>EUR/GBP</td>\n",
       "      <td>-1.31187</td>\n",
       "      <td>True</td>\n",
       "    </tr>\n",
       "  </tbody>\n",
       "</table>\n",
       "</div>"
      ],
      "text/plain": [
       "    tradeId  amountK currency  grossPL  isBuy\n",
       "0  61471174       50  EUR/GBP -3.93560   True\n",
       "1  61471213       75  EUR/USD  2.25000   True\n",
       "2  61471177       50  EUR/GBP -1.31187   True"
      ]
     },
     "execution_count": 52,
     "metadata": {},
     "output_type": "execute_result"
    }
   ],
   "source": [
    "api.get_open_positions()[sel]  "
   ]
  },
  {
   "cell_type": "code",
   "execution_count": 53,
   "metadata": {},
   "outputs": [],
   "source": [
    "api.close_all_for_symbol('EUR/GBP')  "
   ]
  },
  {
   "cell_type": "code",
   "execution_count": 54,
   "metadata": {},
   "outputs": [
    {
     "data": {
      "text/html": [
       "<div>\n",
       "<style scoped>\n",
       "    .dataframe tbody tr th:only-of-type {\n",
       "        vertical-align: middle;\n",
       "    }\n",
       "\n",
       "    .dataframe tbody tr th {\n",
       "        vertical-align: top;\n",
       "    }\n",
       "\n",
       "    .dataframe thead th {\n",
       "        text-align: right;\n",
       "    }\n",
       "</style>\n",
       "<table border=\"1\" class=\"dataframe\">\n",
       "  <thead>\n",
       "    <tr style=\"text-align: right;\">\n",
       "      <th></th>\n",
       "      <th>tradeId</th>\n",
       "      <th>amountK</th>\n",
       "      <th>currency</th>\n",
       "      <th>grossPL</th>\n",
       "      <th>isBuy</th>\n",
       "    </tr>\n",
       "  </thead>\n",
       "  <tbody>\n",
       "    <tr>\n",
       "      <th>0</th>\n",
       "      <td>61471213</td>\n",
       "      <td>75</td>\n",
       "      <td>EUR/USD</td>\n",
       "      <td>6</td>\n",
       "      <td>True</td>\n",
       "    </tr>\n",
       "  </tbody>\n",
       "</table>\n",
       "</div>"
      ],
      "text/plain": [
       "    tradeId  amountK currency  grossPL  isBuy\n",
       "0  61471213       75  EUR/USD        6   True"
      ]
     },
     "execution_count": 54,
     "metadata": {},
     "output_type": "execute_result"
    }
   ],
   "source": [
    "api.get_open_positions()[sel]"
   ]
  },
  {
   "cell_type": "code",
   "execution_count": 55,
   "metadata": {},
   "outputs": [],
   "source": [
    "api.close_all()  "
   ]
  },
  {
   "cell_type": "code",
   "execution_count": 56,
   "metadata": {},
   "outputs": [
    {
     "data": {
      "text/html": [
       "<div>\n",
       "<style scoped>\n",
       "    .dataframe tbody tr th:only-of-type {\n",
       "        vertical-align: middle;\n",
       "    }\n",
       "\n",
       "    .dataframe tbody tr th {\n",
       "        vertical-align: top;\n",
       "    }\n",
       "\n",
       "    .dataframe thead th {\n",
       "        text-align: right;\n",
       "    }\n",
       "</style>\n",
       "<table border=\"1\" class=\"dataframe\">\n",
       "  <thead>\n",
       "    <tr style=\"text-align: right;\">\n",
       "      <th></th>\n",
       "    </tr>\n",
       "  </thead>\n",
       "  <tbody>\n",
       "  </tbody>\n",
       "</table>\n",
       "</div>"
      ],
      "text/plain": [
       "Empty DataFrame\n",
       "Columns: []\n",
       "Index: []"
      ]
     },
     "execution_count": 56,
     "metadata": {},
     "output_type": "execute_result"
    }
   ],
   "source": [
    "api.get_open_positions()"
   ]
  },
  {
   "cell_type": "markdown",
   "metadata": {},
   "source": [
    "## Account Information"
   ]
  },
  {
   "cell_type": "code",
   "execution_count": 57,
   "metadata": {},
   "outputs": [
    {
     "data": {
      "text/plain": [
       "988162"
      ]
     },
     "execution_count": 57,
     "metadata": {},
     "output_type": "execute_result"
    }
   ],
   "source": [
    "api.get_default_account()  "
   ]
  },
  {
   "cell_type": "code",
   "execution_count": 58,
   "metadata": {},
   "outputs": [
    {
     "data": {
      "text/html": [
       "<div>\n",
       "<style scoped>\n",
       "    .dataframe tbody tr th:only-of-type {\n",
       "        vertical-align: middle;\n",
       "    }\n",
       "\n",
       "    .dataframe tbody tr th {\n",
       "        vertical-align: top;\n",
       "    }\n",
       "\n",
       "    .dataframe thead th {\n",
       "        text-align: right;\n",
       "    }\n",
       "</style>\n",
       "<table border=\"1\" class=\"dataframe\">\n",
       "  <thead>\n",
       "    <tr style=\"text-align: right;\">\n",
       "      <th></th>\n",
       "      <th>0</th>\n",
       "    </tr>\n",
       "  </thead>\n",
       "  <tbody>\n",
       "    <tr>\n",
       "      <th>accountId</th>\n",
       "      <td>988162</td>\n",
       "    </tr>\n",
       "    <tr>\n",
       "      <th>accountName</th>\n",
       "      <td>1000988162</td>\n",
       "    </tr>\n",
       "    <tr>\n",
       "      <th>balance</th>\n",
       "      <td>42711.8</td>\n",
       "    </tr>\n",
       "    <tr>\n",
       "      <th>dayPL</th>\n",
       "      <td>85.2</td>\n",
       "    </tr>\n",
       "    <tr>\n",
       "      <th>equity</th>\n",
       "      <td>42711.8</td>\n",
       "    </tr>\n",
       "    <tr>\n",
       "      <th>grossPL</th>\n",
       "      <td>0</td>\n",
       "    </tr>\n",
       "    <tr>\n",
       "      <th>hedging</th>\n",
       "      <td>N</td>\n",
       "    </tr>\n",
       "    <tr>\n",
       "      <th>mc</th>\n",
       "      <td>N</td>\n",
       "    </tr>\n",
       "    <tr>\n",
       "      <th>mcDate</th>\n",
       "      <td></td>\n",
       "    </tr>\n",
       "    <tr>\n",
       "      <th>ratePrecision</th>\n",
       "      <td>0</td>\n",
       "    </tr>\n",
       "    <tr>\n",
       "      <th>t</th>\n",
       "      <td>6</td>\n",
       "    </tr>\n",
       "    <tr>\n",
       "      <th>usableMargin</th>\n",
       "      <td>42711.8</td>\n",
       "    </tr>\n",
       "    <tr>\n",
       "      <th>usableMargin3</th>\n",
       "      <td>42711.8</td>\n",
       "    </tr>\n",
       "    <tr>\n",
       "      <th>usableMargin3Perc</th>\n",
       "      <td>100</td>\n",
       "    </tr>\n",
       "    <tr>\n",
       "      <th>usableMarginPerc</th>\n",
       "      <td>100</td>\n",
       "    </tr>\n",
       "    <tr>\n",
       "      <th>usdMr</th>\n",
       "      <td>0</td>\n",
       "    </tr>\n",
       "    <tr>\n",
       "      <th>usdMr3</th>\n",
       "      <td>0</td>\n",
       "    </tr>\n",
       "  </tbody>\n",
       "</table>\n",
       "</div>"
      ],
      "text/plain": [
       "                            0\n",
       "accountId              988162\n",
       "accountName        1000988162\n",
       "balance               42711.8\n",
       "dayPL                    85.2\n",
       "equity                42711.8\n",
       "grossPL                     0\n",
       "hedging                     N\n",
       "mc                          N\n",
       "mcDate                       \n",
       "ratePrecision               0\n",
       "t                           6\n",
       "usableMargin          42711.8\n",
       "usableMargin3         42711.8\n",
       "usableMargin3Perc         100\n",
       "usableMarginPerc          100\n",
       "usdMr                       0\n",
       "usdMr3                      0"
      ]
     },
     "execution_count": 58,
     "metadata": {},
     "output_type": "execute_result"
    }
   ],
   "source": [
    "api.get_accounts().T  "
   ]
  },
  {
   "cell_type": "markdown",
   "metadata": {},
   "source": [
    "<img src=\"http://hilpisch.com/tpq_logo.png\" alt=\"The Python Quants\" width=\"35%\" align=\"right\" border=\"0\"><br>\n",
    "\n",
    "<a href=\"http://tpq.io\" target=\"_blank\">http://tpq.io</a> | <a href=\"http://twitter.com/dyjh\" target=\"_blank\">@dyjh</a> | <a href=\"mailto:training@tpq.io\">training@tpq.io</a>"
   ]
  }
 ],
 "metadata": {
  "kernelspec": {
   "display_name": "Python 3",
   "language": "python",
   "name": "python3"
  },
  "language_info": {
   "codemirror_mode": {
    "name": "ipython",
    "version": 3
   },
   "file_extension": ".py",
   "mimetype": "text/x-python",
   "name": "python",
   "nbconvert_exporter": "python",
   "pygments_lexer": "ipython3",
   "version": "3.6.7"
  }
 },
 "nbformat": 4,
 "nbformat_minor": 2
}
