{
 "cells": [
  {
   "cell_type": "markdown",
   "metadata": {},
   "source": [
    "# Finance and Python Resources "
   ]
  },
  {
   "cell_type": "markdown",
   "metadata": {},
   "source": [
    "In this notebook, you will find links to resources I began bookmarking in 2016. The resources are: data sets, courses, influential financial data scientists, fund managers, traders, podcast episodes, bank/fund main sites, US exchanges, books, and academic papers. \n",
    "\n",
    "Descriptions were copied directly from websites."
   ]
  },
  {
   "cell_type": "markdown",
   "metadata": {},
   "source": [
    "## Industry Prep  |  Open Courses  |  Academic Curriculum "
   ]
  },
  {
   "cell_type": "markdown",
   "metadata": {},
   "source": [
    "#### Chartered Financial Analyst (CFA) Institute\n",
    "\n",
    "https://www.cfainstitute.org/programs/cfa\n",
    "\n",
    "Achieve the highest distinction in the investment management profession – the CFA® designation.\n",
    "\n",
    "The Chartered Financial Analyst® (CFA) credential is held by over 150,000 professionals around the world. The charter gives a strong understanding of advanced investment analysis and real-world portfolio management skills.\n",
    "\n",
    "The CFA Program is a self-study, graduate-level program divided into three levels of exams. Passing these exams is one step to becoming a CFA charterholder.\n",
    "    \n"
   ]
  },
  {
   "cell_type": "markdown",
   "metadata": {},
   "source": [
    "#### Chartered Market Technician\n",
    "\n",
    "https://cmtassociation.org/chartered-market-technician/\n",
    "\n",
    "Completing the CMT Program demonstrates mastery of a core body of knowledge of investment risk in portfolio management. Our market philosophy is grounded in behavioral economics and extends beyond classical pattern recognition techniques to include quantitative approaches to market research and rules based trading system design and testing."
   ]
  },
  {
   "cell_type": "markdown",
   "metadata": {},
   "source": [
    "#### Corporate Finance Institute\n",
    "\n",
    "https://corporatefinanceinstitute.com/\n",
    "\n",
    "CFI's financial modeling certification program provides an opportunity for hands-on learning through interactive video lectures, exercises, and case studies. The quizzes, exercises and qualified assessments will help you track and measure your progress throughout your learning journey.\n",
    "\n",
    "Learn by doing from world-renowned instructors with over 20 years of experience in delivering courses and training in corporate finance, investment banking, equity research, corporate development, FP&A, treasury, and accounting."
   ]
  },
  {
   "cell_type": "markdown",
   "metadata": {},
   "source": [
    "#### Bloomberg Market Concepts\n",
    "\n",
    "https://www.bloomberg.com/professional/product/bloomberg-market-concepts/\n",
    "\n",
    "Bloomberg Market Concepts (BMC) is a 10-hour, self-paced e-learning course that provides an interactive introduction to the financial markets. BMC consists of 5 modules—Economic Indicators, Currencies, Fixed Income, Equities, and Getting Started on the Terminal—woven together from Bloomberg data, news, analytics and television. Using the BMC digital courseware as a course companion frees up class time for more advanced topics."
   ]
  },
  {
   "cell_type": "markdown",
   "metadata": {},
   "source": [
    "#### FINRA Qualification Exams\n",
    "\n",
    "http://www.finra.org/industry/qualification-exams\n",
    "\n",
    "To become registered, securities professionals must pass qualifying exams administered by FINRA to demonstrate their competence in the particular securities activities in which they will work. You must pass the exams prior to engaging in those areas of the business.\n",
    "\n",
    "These exams cover a broad range of subjects on the markets, and the securities industry and its regulatory structure. This includes knowledge of FINRA rules and also the rules of other self-regulatory organizations (SROs). The purpose of the exams is to ensure that you acquire a minimum level of understanding and expertise."
   ]
  },
  {
   "cell_type": "markdown",
   "metadata": {},
   "source": [
    "#### Certificate in Quantitative Finance\n",
    "\n",
    "https://www.cqf.com/\n",
    "\n",
    "The CQF is designed for delegates in full-time work and does not require any time away from the workplace. By dividing the program content over six months or into two levels, delegates build up their knowledge session by session around their busy work schedule. There are around two core CQF lectures a week which run from 6.00pm – 8.30pm (GMT). All training is delivered live via webcast, is also recorded and made available on the CQF Portal within 24 hours."
   ]
  },
  {
   "cell_type": "markdown",
   "metadata": {},
   "source": [
    "#### DataCamp\n",
    "\n",
    "https://www.datacamp.com/\n",
    "\n",
    "The skills people and businesses need to succeed are changing. No matter where you are in your career or what field you work in, you will need to understand the language of data. With DataCamp, you learn data science today and apply it tomorrow."
   ]
  },
  {
   "cell_type": "markdown",
   "metadata": {},
   "source": [
    "#### The Python Quants\n",
    "\n",
    "https://tpq.io/\n",
    "\n",
    "The Experts in Data-Driven and AI-First Finance with Python. We focus on Python and Open Source Technologies for Financial Data Science, Artificial Intelligence, Algorithmic Trading and Computational Finance."
   ]
  },
  {
   "cell_type": "markdown",
   "metadata": {},
   "source": [
    "#### World Quant University\n",
    "\n",
    "https://wqu.org/\n",
    "\n",
    "Financial engineering applies mathematical and quantitative methods to financial problems. This multidisciplinary field combines financial theory, mathematics applications, engineering methods, and programming practices.\n",
    "\n",
    "Our two-year, online program offers 9 instructor-guided courses with a unique emphasis on applied projects and collaborative, peer-to-peer learning.\n",
    "\n",
    "From Python and machine learning to the basics of financial markets, we teach and train the most modern skills. You will be designing your own trading algorithm before you know it."
   ]
  },
  {
   "cell_type": "markdown",
   "metadata": {},
   "source": [
    "#### Florida Atlantic University M.S. in Finance\n",
    "\n",
    "https://business.fau.edu/masters-phd/master-of-science/msfinance/index.php\n",
    "\n",
    "The 16-month Master of Science in Finance (MSF) program is specially designed to allow participants to continue their professional responsibilities while earning an AACSB-accredited Master of Science in Finance degree. With courses offered on Monday and Wednesday evenings, our full-service, all-inclusive program is specially designed for those with busy personal and professional commitments as well as for those who prefer the convenience of a full service, structured, cohort program. The Master of Science in Finance program trains current and future professionals for productive careers in financial management, investment banking and investment management."
   ]
  },
  {
   "cell_type": "markdown",
   "metadata": {},
   "source": [
    "#### Drexel-LeBow College of Business M.S. in Quantitative Finance\n",
    "\n",
    "https://www.lebow.drexel.edu/academics/graduate/master-of-science/ms-finance\n",
    "\n",
    "Designed to combine quantitative and computer skills with financial theory and applications, our students become well-versed in several areas including risk management, financial engineering and portfolio analysis. Student gain skills that include data analysis, data mining and forecasting and have access to many resources including Bloomberg Terminals, FactSet, Compustat and much more."
   ]
  },
  {
   "cell_type": "markdown",
   "metadata": {},
   "source": [
    "#### MIT Sloan M.S. in Finance\n",
    "\n",
    "http://mitsloan.mit.edu/mfin/\n",
    "\n",
    "http://mitsloan.mit.edu/mfin/apply/suggested-background/\n",
    "\n",
    "MFin carries with it a legendary reputation, world-renowned faculty and innovative, hands-on learning experiences in a top-ranked, early-stage finance degree. The program is adaptive to meet your specific requirements across a broad range of premier career opportunities in sought-after established financial institutions, corporations, consulting firms, the public sector and fintech."
   ]
  },
  {
   "cell_type": "markdown",
   "metadata": {},
   "source": [
    "#### Boston University Questrom School of Business\n",
    "\n",
    "https://www.bu.edu/questrom/degree-programs/ms-in-mathematical-finance/\n",
    "\n",
    "https://www.bu.edu/questrom/degree-programs/ms-in-mathematical-finance/suggested-reading-online-courses/\n",
    "\n",
    "This 17-month program launches you far beyond the Black-Scholes-Merton option pricing formula. It covers some of the most complex relations between various components of the modern financial system. This knowledge is indispensable in the design of financial instruments and policies that foster technological innovation and economic behavior."
   ]
  },
  {
   "cell_type": "markdown",
   "metadata": {},
   "source": [
    "#### Coursera Financial Engineering 1\n",
    "\n",
    "https://www.coursera.org/learn/financial-engineering-1\n",
    "\n",
    "Financial Engineering is a multidisciplinary field drawing from finance and economics, mathematics, statistics, engineering and computational methods. The emphasis of FE & RM Part I will be on the use of simple stochastic models to price derivative securities in various asset classes including equities, fixed income, credit and mortgage-backed securities. We will also consider the role that some of these asset classes played during the financial crisis."
   ]
  },
  {
   "cell_type": "markdown",
   "metadata": {},
   "source": [
    "#### Coursera Financial Engineering 2\n",
    "\n",
    "https://www.coursera.org/learn/financial-engineering-2"
   ]
  },
  {
   "cell_type": "markdown",
   "metadata": {},
   "source": [
    "#### CME Group - CME Institure \n",
    "\n",
    "https://www.cmegroup.com/education.html\n",
    "\n",
    "Start learning about the futures and options markets with a variety of courses designed to help you at each stage of your trading journey. Whether you are brand new to the derivatives market, or an experienced trader looking to sharpen specific skills, our courses will help you deepen your knowledge and improve your understanding of our markets."
   ]
  },
  {
   "cell_type": "markdown",
   "metadata": {},
   "source": [
    "#### Cboe Education Center\n",
    "\n",
    "http://www.cboe.com/education/\n",
    "\n",
    "The Options Institute, now in its 30th year, continues to set the bar for investor education worldwide. With deep expertise, tools and interactive resources, our world-renowned center can help novice and advanced investors alike more effectively use options and volatility strategies to manage risk and achieve their goals. Ultimately, we empower investors with precise and flexible means to achieve their targeted outcomes."
   ]
  },
  {
   "cell_type": "markdown",
   "metadata": {},
   "source": [
    "## Interactive Developement Environments, Distributions, and Other Tools"
   ]
  },
  {
   "cell_type": "markdown",
   "metadata": {},
   "source": [
    "#### Anaconda Distribution\n",
    "\n",
    "https://www.anaconda.com/download/#macos\n",
    "\n",
    "The Most Trusted Distribution for Data Science\n",
    "\n",
    "Anaconda® is a package manager, an environment manager, a Python/R data science distribution, and a collection of over 1,500+ open source packages. Anaconda is free and easy to install, and it offers free community support.\n",
    "\n",
    "About: https://docs.anaconda.com/anaconda/\n",
    "\n",
    "High-Performance Distribution: Easily install 1,400+ data science packages\n",
    "\n",
    "http://docs.anaconda.com/anaconda/packages/pkg-docs/\n",
    "\n",
    "Package Management: Manage packages, dependencies and environments with conda\n",
    "\n",
    "https://conda.io/docs/\n",
    "\n",
    "\n",
    "\n"
   ]
  },
  {
   "cell_type": "markdown",
   "metadata": {},
   "source": [
    "#### Spyder IDE\n",
    "\n",
    "https://www.spyder-ide.org/\n",
    "\n",
    "Spyder is a powerful scientific environment written in Python, for Python, and designed by and for scientists, engineers and data analysts. It offers a unique combination of the advanced editing, analysis, debugging, and profiling functionality of a comprehensive development tool with the data exploration, interactive execution, deep inspection, and beautiful visualization capabilities of a scientific package.\n",
    "\n",
    "Beyond its many built-in features, its abilities can be extended even further via its plugin system and API. Furthermore, Spyder can also be used as a PyQt5 extension library, allowing developers to build upon its functionality and embed its components, such as the interactive console, in their own PyQt software."
   ]
  },
  {
   "cell_type": "markdown",
   "metadata": {},
   "source": [
    "#### Jupyter Notebooks\n",
    "\n",
    "https://jupyter.org/\n",
    "\n",
    "The Jupyter Notebook is an open-source web application that allows you to create and share documents that contain live code, equations, visualizations and narrative text. Uses include: data cleaning and transformation, numerical simulation, statistical modeling, data visualization, machine learning, and much more."
   ]
  },
  {
   "cell_type": "markdown",
   "metadata": {},
   "source": [
    "#### PyCharm IDE\n",
    "\n",
    "PyCharm is designed by programmers, for programmers, to provide all the tools you need for productive Python development.\n",
    "\n",
    "PyCharm Professional Edition helps you analyze your data with Python. Just create a scientific project, add your data, and start analyzing.\n",
    "\n",
    "Academic discount: https://www.jetbrains.com/student/\n",
    "\n",
    "IDE Main: https://www.jetbrains.com/pycharm/\n",
    "\n",
    "Scientific tools: https://www.jetbrains.com/pycharm/features/scientific_tools.html"
   ]
  },
  {
   "cell_type": "code",
   "execution_count": null,
   "metadata": {},
   "outputs": [],
   "source": []
  },
  {
   "cell_type": "code",
   "execution_count": null,
   "metadata": {},
   "outputs": [],
   "source": []
  }
 ],
 "metadata": {
  "kernelspec": {
   "display_name": "Python 3",
   "language": "python",
   "name": "python3"
  },
  "language_info": {
   "codemirror_mode": {
    "name": "ipython",
    "version": 3
   },
   "file_extension": ".py",
   "mimetype": "text/x-python",
   "name": "python",
   "nbconvert_exporter": "python",
   "pygments_lexer": "ipython3",
   "version": "3.7.1"
  }
 },
 "nbformat": 4,
 "nbformat_minor": 2
}
