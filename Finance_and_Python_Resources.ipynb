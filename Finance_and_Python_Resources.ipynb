{
 "cells": [
  {
   "cell_type": "markdown",
   "metadata": {},
   "source": [
    "# Finance and Python Resources "
   ]
  },
  {
   "cell_type": "markdown",
   "metadata": {},
   "source": [
    "In this notebook, you will find links to resources I began bookmarking in 2016. The resources are: data sets, courses, influential financial data scientists, fund managers, traders, podcast episodes, bank/fund main sites, US exchanges, books, and academic papers. \n",
    "\n",
    "Descriptions were copied directly from websites."
   ]
  },
  {
   "cell_type": "markdown",
   "metadata": {},
   "source": [
    "## Industry Prep  |  Open Courses  |  Academic Curriculum "
   ]
  },
  {
   "cell_type": "markdown",
   "metadata": {},
   "source": [
    "#### Chartered Financial Analyst (CFA) Institute\n",
    "\n",
    "https://www.cfainstitute.org/programs/cfa\n",
    "\n",
    "Achieve the highest distinction in the investment management profession – the CFA® designation.\n",
    "\n",
    "The Chartered Financial Analyst® (CFA) credential is held by over 150,000 professionals around the world. The charter gives a strong understanding of advanced investment analysis and real-world portfolio management skills.\n",
    "\n",
    "The CFA Program is a self-study, graduate-level program divided into three levels of exams. Passing these exams is one step to becoming a CFA charterholder.\n",
    "    \n"
   ]
  },
  {
   "cell_type": "markdown",
   "metadata": {},
   "source": [
    "#### Chartered Market Technician\n",
    "\n",
    "https://cmtassociation.org/chartered-market-technician/\n",
    "\n",
    "Completing the CMT Program demonstrates mastery of a core body of knowledge of investment risk in portfolio management. Our market philosophy is grounded in behavioral economics and extends beyond classical pattern recognition techniques to include quantitative approaches to market research and rules based trading system design and testing."
   ]
  },
  {
   "cell_type": "markdown",
   "metadata": {},
   "source": [
    "#### Corporate Finance Institute\n",
    "\n",
    "https://corporatefinanceinstitute.com/\n",
    "\n",
    "CFI's financial modeling certification program provides an opportunity for hands-on learning through interactive video lectures, exercises, and case studies. The quizzes, exercises and qualified assessments will help you track and measure your progress throughout your learning journey.\n",
    "\n",
    "Learn by doing from world-renowned instructors with over 20 years of experience in delivering courses and training in corporate finance, investment banking, equity research, corporate development, FP&A, treasury, and accounting."
   ]
  },
  {
   "cell_type": "markdown",
   "metadata": {},
   "source": [
    "#### Bloomberg Market Concepts\n",
    "\n",
    "https://www.bloomberg.com/professional/product/bloomberg-market-concepts/\n",
    "\n",
    "Bloomberg Market Concepts (BMC) is a 10-hour, self-paced e-learning course that provides an interactive introduction to the financial markets. BMC consists of 5 modules—Economic Indicators, Currencies, Fixed Income, Equities, and Getting Started on the Terminal—woven together from Bloomberg data, news, analytics and television. Using the BMC digital courseware as a course companion frees up class time for more advanced topics."
   ]
  },
  {
   "cell_type": "markdown",
   "metadata": {},
   "source": [
    "#### FINRA Qualification Exams\n",
    "\n",
    "http://www.finra.org/industry/qualification-exams\n",
    "\n",
    "To become registered, securities professionals must pass qualifying exams administered by FINRA to demonstrate their competence in the particular securities activities in which they will work. You must pass the exams prior to engaging in those areas of the business.\n",
    "\n",
    "These exams cover a broad range of subjects on the markets, and the securities industry and its regulatory structure. This includes knowledge of FINRA rules and also the rules of other self-regulatory organizations (SROs). The purpose of the exams is to ensure that you acquire a minimum level of understanding and expertise."
   ]
  },
  {
   "cell_type": "markdown",
   "metadata": {},
   "source": [
    "#### Certificate in Quantitative Finance\n",
    "\n",
    "https://www.cqf.com/\n",
    "\n",
    "The CQF is designed for delegates in full-time work and does not require any time away from the workplace. By dividing the program content over six months or into two levels, delegates build up their knowledge session by session around their busy work schedule. There are around two core CQF lectures a week which run from 6.00pm – 8.30pm (GMT). All training is delivered live via webcast, is also recorded and made available on the CQF Portal within 24 hours."
   ]
  },
  {
   "cell_type": "markdown",
   "metadata": {},
   "source": [
    "#### DataCamp\n",
    "\n",
    "https://www.datacamp.com/\n",
    "\n",
    "The skills people and businesses need to succeed are changing. No matter where you are in your career or what field you work in, you will need to understand the language of data. With DataCamp, you learn data science today and apply it tomorrow."
   ]
  },
  {
   "cell_type": "markdown",
   "metadata": {},
   "source": [
    "#### The Python Quants\n",
    "\n",
    "https://tpq.io/\n",
    "\n",
    "The Experts in Data-Driven and AI-First Finance with Python. We focus on Python and Open Source Technologies for Financial Data Science, Artificial Intelligence, Algorithmic Trading and Computational Finance."
   ]
  },
  {
   "cell_type": "markdown",
   "metadata": {},
   "source": [
    "#### World Quant University\n",
    "\n",
    "https://wqu.org/\n",
    "\n",
    "Financial engineering applies mathematical and quantitative methods to financial problems. This multidisciplinary field combines financial theory, mathematics applications, engineering methods, and programming practices.\n",
    "\n",
    "Our two-year, online program offers 9 instructor-guided courses with a unique emphasis on applied projects and collaborative, peer-to-peer learning.\n",
    "\n",
    "From Python and machine learning to the basics of financial markets, we teach and train the most modern skills. You will be designing your own trading algorithm before you know it."
   ]
  },
  {
   "cell_type": "markdown",
   "metadata": {},
   "source": [
    "#### Florida Atlantic University M.S. in Finance\n",
    "\n",
    "https://business.fau.edu/masters-phd/master-of-science/msfinance/index.php\n",
    "\n",
    "The 16-month Master of Science in Finance (MSF) program is specially designed to allow participants to continue their professional responsibilities while earning an AACSB-accredited Master of Science in Finance degree. With courses offered on Monday and Wednesday evenings, our full-service, all-inclusive program is specially designed for those with busy personal and professional commitments as well as for those who prefer the convenience of a full service, structured, cohort program. The Master of Science in Finance program trains current and future professionals for productive careers in financial management, investment banking and investment management."
   ]
  },
  {
   "cell_type": "markdown",
   "metadata": {},
   "source": [
    "#### Drexel-LeBow College of Business M.S. in Quantitative Finance\n",
    "\n",
    "https://www.lebow.drexel.edu/academics/graduate/master-of-science/ms-finance\n",
    "\n",
    "Designed to combine quantitative and computer skills with financial theory and applications, our students become well-versed in several areas including risk management, financial engineering and portfolio analysis. Student gain skills that include data analysis, data mining and forecasting and have access to many resources including Bloomberg Terminals, FactSet, Compustat and much more."
   ]
  },
  {
   "cell_type": "markdown",
   "metadata": {},
   "source": [
    "#### Coursera Financial Engineering 1\n",
    "\n",
    "https://www.coursera.org/learn/financial-engineering-1\n",
    "\n",
    "Financial Engineering is a multidisciplinary field drawing from finance and economics, mathematics, statistics, engineering and computational methods. The emphasis of FE & RM Part I will be on the use of simple stochastic models to price derivative securities in various asset classes including equities, fixed income, credit and mortgage-backed securities. We will also consider the role that some of these asset classes played during the financial crisis."
   ]
  },
  {
   "cell_type": "markdown",
   "metadata": {},
   "source": [
    "#### Coursera Financial Engineering 2\n",
    "\n",
    "https://www.coursera.org/learn/financial-engineering-2"
   ]
  },
  {
   "cell_type": "code",
   "execution_count": null,
   "metadata": {},
   "outputs": [],
   "source": []
  }
 ],
 "metadata": {
  "kernelspec": {
   "display_name": "Python 3",
   "language": "python",
   "name": "python3"
  },
  "language_info": {
   "codemirror_mode": {
    "name": "ipython",
    "version": 3
   },
   "file_extension": ".py",
   "mimetype": "text/x-python",
   "name": "python",
   "nbconvert_exporter": "python",
   "pygments_lexer": "ipython3",
   "version": "3.7.1"
  }
 },
 "nbformat": 4,
 "nbformat_minor": 2
}
