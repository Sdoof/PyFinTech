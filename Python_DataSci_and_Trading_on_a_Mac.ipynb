{
 "cells": [
  {
   "cell_type": "markdown",
   "metadata": {},
   "source": [
    "# Getting your Mac Ready for Data Science and Algo Trading\n",
    "\n",
    "It once was suggested to me that downloading too many tools than I know how to use is not logical based on Agile Development Principles; however, as a Marine, I am in the mindset of - better to have it and not need than to need it and not have it...\n",
    "\n",
    "Besides - this is a personal machine so - owner's preference - - - do what you please with your own Mac.\n",
    "\n",
    "Why bring this up - I believe it is correct to prepare your machine with the tools you will need before going down the rabbit hole of trying to build an algorithm. Given I am a beginner, establishing a base working environment has taken some time; where others may know immediately what to do - I find myself searching package docs and Stack Overflow for answers - if anything it is a great lesson in research and cataloging what worked for me - this task has also built a very healthy respect for developers & engineers - this isn't easy stuff. . .I dread the day I need to replace this mac and ensure I can image my new mac with everything I've built so far. \n",
    "\n",
    "Straddling the communities of trading and development/data science are two similar sayings:\n",
    "\n",
    "Trading = BTFD: Buy the Fn Dip. Not really relevant here but, it does lead into the following. . .\n",
    "\n",
    "Developing = RTFD: Read the Fn Docs\n",
    "\n",
    "RTFD probably has its roots in TLDR - Too Long Didn't Read - type programmers who, rather than read docs, post questions on Stack Overflow hoping someone will coddle them through an error/bug/issue. \n",
    "\n",
    "Off the tangent and back to the main point. \n",
    "\n",
    "Credit for these insights goes to Dr. Yves Hilpisch of The Python Quants, and The AI Machine. \n",
    "\n",
    "Dr. Hilpisch's books and courses are a massive leap forward for me with regard to complementary skills to my B.B.A. in Finance and my intermediate skills in Excel based modeling. His courses are the answer for anyone looking to prep for a graduate level program or become more competitive in the job market.\n",
    "\n",
    "This notebook is a means of translating Dr. Hilpisch's work for individuals like me - mid to upper 30 year olds, or older, who made a significant career change at a late age and are going from, say, the military to computational finance - or simply new B.B.A in Finance grads who realized too late in the game excel based valuations ≠ the quant as seen in \"The Big Short\". . .I happen to be both: going through a significant career change in my mid 30s, and a new B.B.A Finance grad. \n",
    "\n",
    "Dr. Hilpisch's full courses can be viewed here:\n",
    "\n",
    "Computational Finance: https://compfinance.tpq.io/\n",
    "\n",
    "Algorithmic Trading: https://certificate.tpq.io/\n",
    "\n",
    "Other training: https://tpq.io/"
   ]
  },
  {
   "cell_type": "markdown",
   "metadata": {},
   "source": [
    "\n",
    "### You will need to install the following if you wish to have an 'on premise' solution e.g. you are not okay with storing an algo workbook on Quantopian's Research Platform. . .in general, just download these so you can become familiar with tools likely encountered in the workplace.\n"
   ]
  },
  {
   "cell_type": "markdown",
   "metadata": {},
   "source": [
    "### If you are looking for a fast solution as a means of creating a research paper or presentation for financial data science, I recommend simply creating a profile on Quantopian and using their research platform. This will circumvent the immediate need to install any of the following; again, if you have a longterm goal of employment as a financial data scientist or algorithmic trader, it is best to familiarize with the below processes.\n"
   ]
  },
  {
   "cell_type": "markdown",
   "metadata": {},
   "source": [
    "### Data Science Package Distribution and IDEs\n",
    "\n",
    "##### Anaconda Distribution\n",
    "\n",
    "Probably the quintessential data science package distribution aka - a thing that saves you from pip or conda installing in iTerm2 over 1400 Python packages.\n",
    "\n",
    "What's a pip install you ask? Or iTerm2/terminal? iTerm2 will come later - it is another tool you should consider installing as an improvement to terminal - the OE macOS app for telling your mac what to do in something called command line prompts.\n",
    "\n",
    "If you aren't familiar with terminal, go ahead and hit command + space bar and type in \"terminal\" and then hit enter - this will open terminal for you...\n",
    "\n",
    "Back to pip install or conda install - a pip install or conda install is simply typing in terminal (no quotations) \"pip install pyfolio\" or \"conda install pyfolio\"\n",
    "\n",
    "Further reading on pip vs conda install: https://www.anaconda.com/blog/developer-blog/understanding-conda-pip/\n",
    "\n",
    "###### Jupyter Notebook\n",
    "\n",
    "Jupyter Notebook install should be done within the Anaconda app. After you have installed Anaconda, simply open that app and the install Jupyter.\n",
    "\n",
    "To avoid the freakout like I had after first launching Jupyter, do the following:\n",
    "\n",
    "- create a desktop folder named My_Jupyter\n",
    "    - create a new folder in the My_Jupyter folder - it is okay to leave it as 'untitled'\n",
    "\n",
    "    - it is very, very, very important to use the naming convention of either no spaces or file_name or folder_name\n",
    "    - not doing so can cause a headache later with programs or apps which do not do well with spaces in the name.\n",
    "\n",
    "In terminal, or, if you have already installed it, iTerm2, type:\n",
    "\n",
    "- cd ~/Desktop/My_Jupyter\n",
    "- hit enter\n",
    "- to check that you have correctly enabled the new directory, type in ls\n",
    "    - hit enter\n",
    "    - you should see:\n",
    "        - untitled folder \n",
    "        - (your mac's name):My_Jupyter1 your_user_name$\n",
    "\n",
    "###### Spyder IDE\n",
    "\n",
    "As with Jupyter, Spyder IDE will be installed from within the Anaconda app.\n",
    "\n",
    "If you are coming from a programming or development background, Spyder will give you the traditional IDE feel as opposed to Jupyter, which seems very specific to Data Science. \n",
    "\n",
    "For complete beginners, the use of Spyder can be a little more involved than Jupyter - not to say one is better than the other - each is maybe more based on preference than quality.\n",
    "\n",
    "As for now - I will leave Spyder for a later date and time. I hope the small amount provided above helps with at least getting Anaconda, demystifying pip installs, and introduces you to terminal. "
   ]
  },
  {
   "cell_type": "markdown",
   "metadata": {},
   "source": [
    "My personal site: https://www.g2fr.io/\n",
    "\n",
    "LinkedIn:   https://www.linkedin.com/in/justingoheen/"
   ]
  },
  {
   "cell_type": "markdown",
   "metadata": {},
   "source": [
    "last update 1/29/2019"
   ]
  }
 ],
 "metadata": {
  "kernelspec": {
   "display_name": "Python 3",
   "language": "python",
   "name": "python3"
  },
  "language_info": {
   "codemirror_mode": {
    "name": "ipython",
    "version": 3
   },
   "file_extension": ".py",
   "mimetype": "text/x-python",
   "name": "python",
   "nbconvert_exporter": "python",
   "pygments_lexer": "ipython3",
   "version": "3.7.1"
  }
 },
 "nbformat": 4,
 "nbformat_minor": 2
}
